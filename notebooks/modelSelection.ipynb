{
  "nbformat": 4,
  "nbformat_minor": 0,
  "metadata": {
    "colab": {
      "provenance": []
    },
    "kernelspec": {
      "name": "python3",
      "display_name": "Python 3"
    },
    "language_info": {
      "name": "python"
    }
  },
  "cells": [
    {
      "cell_type": "code",
      "source": [],
      "metadata": {
        "id": "q12mQPBd0VvZ"
      },
      "execution_count": null,
      "outputs": []
    },
    {
      "cell_type": "code",
      "source": [
        "pip install scikit-learn==1.2.2"
      ],
      "metadata": {
        "colab": {
          "base_uri": "https://localhost:8080/"
        },
        "id": "FuZ8O18W_TvL",
        "outputId": "2ed6e9cc-9142-4437-f6ad-5c8306a4bad4"
      },
      "execution_count": null,
      "outputs": [
        {
          "output_type": "stream",
          "name": "stdout",
          "text": [
            "Collecting scikit-learn==1.2.2\n",
            "  Downloading scikit_learn-1.2.2-cp310-cp310-manylinux_2_17_x86_64.manylinux2014_x86_64.whl.metadata (11 kB)\n",
            "Requirement already satisfied: numpy>=1.17.3 in /usr/local/lib/python3.10/dist-packages (from scikit-learn==1.2.2) (1.26.4)\n",
            "Requirement already satisfied: scipy>=1.3.2 in /usr/local/lib/python3.10/dist-packages (from scikit-learn==1.2.2) (1.13.1)\n",
            "Requirement already satisfied: joblib>=1.1.1 in /usr/local/lib/python3.10/dist-packages (from scikit-learn==1.2.2) (1.4.2)\n",
            "Requirement already satisfied: threadpoolctl>=2.0.0 in /usr/local/lib/python3.10/dist-packages (from scikit-learn==1.2.2) (3.5.0)\n",
            "Downloading scikit_learn-1.2.2-cp310-cp310-manylinux_2_17_x86_64.manylinux2014_x86_64.whl (9.6 MB)\n",
            "\u001b[2K   \u001b[90m━━━━━━━━━━━━━━━━━━━━━━━━━━━━━━━━━━━━━━━━\u001b[0m \u001b[32m9.6/9.6 MB\u001b[0m \u001b[31m31.9 MB/s\u001b[0m eta \u001b[36m0:00:00\u001b[0m\n",
            "\u001b[?25hInstalling collected packages: scikit-learn\n",
            "  Attempting uninstall: scikit-learn\n",
            "    Found existing installation: scikit-learn 1.6.0\n",
            "    Uninstalling scikit-learn-1.6.0:\n",
            "      Successfully uninstalled scikit-learn-1.6.0\n",
            "\u001b[31mERROR: pip's dependency resolver does not currently take into account all the packages that are installed. This behaviour is the source of the following dependency conflicts.\n",
            "mlxtend 0.23.3 requires scikit-learn>=1.3.1, but you have scikit-learn 1.2.2 which is incompatible.\u001b[0m\u001b[31m\n",
            "\u001b[0mSuccessfully installed scikit-learn-1.2.2\n"
          ]
        }
      ]
    },
    {
      "cell_type": "code",
      "execution_count": null,
      "metadata": {
        "id": "iqLCQfYqIkM4"
      },
      "outputs": [],
      "source": [
        "import pandas as pd\n",
        "import numpy as np"
      ]
    },
    {
      "cell_type": "markdown",
      "source": [],
      "metadata": {
        "id": "iRfayl2DWio9"
      }
    },
    {
      "cell_type": "code",
      "source": [
        "from google.colab import drive\n",
        "\n",
        "# Step 1: Mount Google Drive\n",
        "drive.mount('/content/drive')"
      ],
      "metadata": {
        "id": "s-xTOwH1PFMC",
        "colab": {
          "base_uri": "https://localhost:8080/"
        },
        "outputId": "aa4de199-e6d0-4ad0-e1b3-42f8d5caa1ef"
      },
      "execution_count": null,
      "outputs": [
        {
          "output_type": "stream",
          "name": "stdout",
          "text": [
            "Mounted at /content/drive\n"
          ]
        }
      ]
    },
    {
      "cell_type": "code",
      "source": [
        "drive_path = '/content/drive/MyDrive/TTDS_Project/'"
      ],
      "metadata": {
        "id": "dXPGlpFURqT2"
      },
      "execution_count": null,
      "outputs": []
    },
    {
      "cell_type": "code",
      "source": [
        "\n",
        "import os\n",
        "\n",
        "# Define the log file path in your Google Drive\n",
        "log_file_path = '/content/drive/MyDrive/TTDS_Project/modellogs.txt'\n",
        "\n",
        "# Ensure the folder exists\n",
        "os.makedirs(os.path.dirname(log_file_path), exist_ok=True)\n",
        "\n",
        "# Function to log activities without a timestamp\n",
        "def log_activity(message):\n",
        "    log_message = f\"{message}\\n\"\n",
        "    with open(log_file_path, 'a') as log_file:\n",
        "        log_file.write(log_message)\n",
        "\n",
        "# Example usage\n",
        "# log_activity(\"Initialized the project log file.\")\n",
        "# log_activity(\"Added a new feature to the project.\")\n",
        "# log_activity(\"Analyzed dataset and created visualizations.\")\n"
      ],
      "metadata": {
        "id": "oZwYN-hrZi1I"
      },
      "execution_count": null,
      "outputs": []
    },
    {
      "cell_type": "code",
      "source": [
        "log_activity(\"Testing log file\")"
      ],
      "metadata": {
        "id": "ISw5c6mQkVGy"
      },
      "execution_count": null,
      "outputs": []
    },
    {
      "cell_type": "code",
      "source": [
        "# Step 1: Load the Dataset\n",
        "\n",
        "file_path = '/content/drive/MyDrive/TTDS_Project/cleaned_property_data.csv'\n",
        "# Read the CSV file, handling errors by skipping bad lines\n",
        "df = pd.read_csv(file_path, on_bad_lines='skip')\n",
        "log_activity(\"Loading dataset from Google Drive.\")\n"
      ],
      "metadata": {
        "id": "t0Zg5ngsZswP"
      },
      "execution_count": null,
      "outputs": []
    },
    {
      "cell_type": "code",
      "source": [
        "df.columns"
      ],
      "metadata": {
        "colab": {
          "base_uri": "https://localhost:8080/"
        },
        "id": "C2sBl8By-Voz",
        "outputId": "65492a24-50ba-4b9d-da06-73b60207954a"
      },
      "execution_count": null,
      "outputs": [
        {
          "output_type": "execute_result",
          "data": {
            "text/plain": [
              "Index(['lotdepth', 'brokerage', 'community', 'list_price', 'lat',\n",
              "       'bedrooms_plus', 'washrooms', 'exterior', 'bedrooms_total',\n",
              "       'total_parking_spaces', 'garage_type', 'sqft', 'lotfront', 'sold_price',\n",
              "       'type', 'basement', 'kitchens_plus', 'style', 'longitude', 'rooms_plus',\n",
              "       'rooms', 'garage_spaces', 'bedrooms', 'kitchens', 'parking_spaces'],\n",
              "      dtype='object')"
            ]
          },
          "metadata": {},
          "execution_count": 8
        }
      ]
    },
    {
      "cell_type": "code",
      "source": [
        "df = df[['lotdepth', 'brokerage', 'community', 'list_price',\n",
        "       'bedrooms_plus', 'washrooms', 'exterior', 'bedrooms_total',\n",
        "       'total_parking_spaces', 'garage_type', 'sqft', 'lotfront', 'sold_price',\n",
        "       'type', 'basement', 'kitchens_plus', 'style', 'rooms_plus',\n",
        "       'rooms', 'garage_spaces', 'bedrooms', 'kitchens', 'parking_spaces']]"
      ],
      "metadata": {
        "id": "rYMC93F3-hX3"
      },
      "execution_count": null,
      "outputs": []
    },
    {
      "cell_type": "code",
      "source": [
        "def log_maintain(func):\n",
        "    def wrapper(*args, **kwargs):\n",
        "        print(f\"Executing {func.__name__}...\")\n",
        "        result = func(*args, **kwargs)\n",
        "        print(f\"Finished {func.__name__}.\")\n",
        "        return result\n",
        "    return wrapper"
      ],
      "metadata": {
        "id": "i0405mvGcMKj"
      },
      "execution_count": null,
      "outputs": []
    },
    {
      "cell_type": "code",
      "source": [
        "import sklearn\n",
        "print(sklearn.__version__)\n"
      ],
      "metadata": {
        "colab": {
          "base_uri": "https://localhost:8080/"
        },
        "id": "TMM0u68vpM20",
        "outputId": "59d917b1-f478-446e-a250-a4549fac5bad"
      },
      "execution_count": null,
      "outputs": [
        {
          "output_type": "stream",
          "name": "stdout",
          "text": [
            "1.2.2\n"
          ]
        }
      ]
    },
    {
      "cell_type": "code",
      "source": [],
      "metadata": {
        "id": "0dsg2YwOqBLW"
      },
      "execution_count": null,
      "outputs": []
    },
    {
      "cell_type": "code",
      "source": [
        "import xgboost as xgb\n",
        "from sklearn.feature_selection import RFE\n",
        "from xgboost import XGBClassifier, XGBRegressor\n",
        "from sklearn.model_selection import train_test_split\n",
        "from sklearn.feature_selection import SelectFromModel\n",
        "import matplotlib.pyplot as plt"
      ],
      "metadata": {
        "id": "YoG3aGHKZzKG"
      },
      "execution_count": null,
      "outputs": []
    },
    {
      "cell_type": "code",
      "source": [
        "def define_features_and_target(data, target_column):\n",
        "\n",
        "  X = data.drop(columns=[target_column])\n",
        "  y = data[target_column]\n",
        "  log_activity(f\"Features and target defined. target = {target_column}\")\n",
        "  return X, y"
      ],
      "metadata": {
        "id": "ytsxddz2cWkT"
      },
      "execution_count": null,
      "outputs": []
    },
    {
      "cell_type": "code",
      "source": [
        "X, y = define_features_and_target(df, 'list_price')"
      ],
      "metadata": {
        "id": "P6Ltg6cscbqK"
      },
      "execution_count": null,
      "outputs": []
    },
    {
      "cell_type": "code",
      "source": [
        "X.columns"
      ],
      "metadata": {
        "colab": {
          "base_uri": "https://localhost:8080/"
        },
        "id": "aOGqOUg54FU8",
        "outputId": "8123c72a-3e9a-4f3b-90f0-4e82f406c0f3"
      },
      "execution_count": null,
      "outputs": [
        {
          "output_type": "execute_result",
          "data": {
            "text/plain": [
              "Index(['lotdepth', 'brokerage', 'community', 'bedrooms_plus', 'washrooms',\n",
              "       'exterior', 'bedrooms_total', 'total_parking_spaces', 'garage_type',\n",
              "       'sqft', 'lotfront', 'sold_price', 'type', 'basement', 'kitchens_plus',\n",
              "       'style', 'rooms_plus', 'rooms', 'garage_spaces', 'bedrooms', 'kitchens',\n",
              "       'parking_spaces'],\n",
              "      dtype='object')"
            ]
          },
          "metadata": {},
          "execution_count": 14
        }
      ]
    },
    {
      "cell_type": "code",
      "source": [
        "# Split the dataset\n",
        "def split_data(X, y, test_size=0.2, random_state=42):\n",
        "  log_activity(f\"Splitting data into training and testing sets with test size {test_size}\")\n",
        "  return train_test_split(X, y, test_size=test_size, random_state=random_state)\n"
      ],
      "metadata": {
        "id": "DusPRyh6c0Rh"
      },
      "execution_count": null,
      "outputs": []
    },
    {
      "cell_type": "code",
      "source": [
        "X_train, X_test, y_train, y_test = split_data(X, y)"
      ],
      "metadata": {
        "id": "DaFYkWMvc4yJ"
      },
      "execution_count": null,
      "outputs": []
    },
    {
      "cell_type": "code",
      "source": [
        "# Initialize the model\n",
        "def initialize_model(random_state=42):\n",
        "  log_activity(f\"Initializing XGBRegressor model with random state {random_state}\")\n",
        "  return XGBRegressor(random_state=random_state)\n"
      ],
      "metadata": {
        "id": "LaU40Kxac-CI"
      },
      "execution_count": null,
      "outputs": []
    },
    {
      "cell_type": "code",
      "source": [
        "model = initialize_model()"
      ],
      "metadata": {
        "id": "jBTWrp1Zc92R"
      },
      "execution_count": null,
      "outputs": []
    },
    {
      "cell_type": "code",
      "source": [
        "# Perform Recursive Feature Elimination\n",
        "def perform_rfe(model, X_train, y_train, n_features_to_select):\n",
        "  log_activity(f\"Performing Recursive Feature Elimination with {n_features_to_select} features\")\n",
        "  rfe = RFE(estimator=model, n_features_to_select=n_features_to_select)\n",
        "  rfe.fit(X_train, y_train)\n",
        "  return rfe"
      ],
      "metadata": {
        "id": "aNmNzJVDdF8Y"
      },
      "execution_count": null,
      "outputs": []
    },
    {
      "cell_type": "code",
      "source": [
        "n_features_to_select = 10  # Adjust the number of features you want to select\n",
        "\n",
        "rfe = perform_rfe(model, X_train, y_train, n_features_to_select)"
      ],
      "metadata": {
        "id": "E36Lx1pwdHTQ"
      },
      "execution_count": null,
      "outputs": []
    },
    {
      "source": [],
      "cell_type": "code",
      "metadata": {
        "id": "TrUdZP9vniMN"
      },
      "execution_count": null,
      "outputs": []
    },
    {
      "cell_type": "code",
      "source": [
        "selected_features = X.columns[rfe.support_]\n",
        "print(\"Selected Features:\", selected_features.tolist())\n",
        "log_activity(f\"Features count: 10, Selected Features: {selected_features.tolist()}\")"
      ],
      "metadata": {
        "colab": {
          "base_uri": "https://localhost:8080/"
        },
        "id": "roW5eViodOkZ",
        "outputId": "a21526ee-4aab-46ca-8cf4-4967136e3abd"
      },
      "execution_count": null,
      "outputs": [
        {
          "output_type": "stream",
          "name": "stdout",
          "text": [
            "Selected Features: ['lotdepth', 'community', 'washrooms', 'total_parking_spaces', 'sqft', 'lotfront', 'sold_price', 'rooms_plus', 'rooms', 'parking_spaces']\n"
          ]
        }
      ]
    },
    {
      "cell_type": "code",
      "source": [
        "# Transform dataset\n",
        "def transform_dataset(rfe, X):\n",
        "  log_activity(\"Transforming dataset using RFE\")\n",
        "  return rfe.transform(X)"
      ],
      "metadata": {
        "id": "YahOpx1DdgtI"
      },
      "execution_count": null,
      "outputs": []
    },
    {
      "cell_type": "code",
      "source": [
        "X_train_selected = transform_dataset(rfe, X_train)\n"
      ],
      "metadata": {
        "id": "EflSBQkRdXtY"
      },
      "execution_count": null,
      "outputs": []
    },
    {
      "cell_type": "code",
      "source": [
        "X_test_selected = transform_dataset(rfe, X_test)"
      ],
      "metadata": {
        "id": "v0Hc7395diYX"
      },
      "execution_count": null,
      "outputs": []
    },
    {
      "cell_type": "code",
      "source": [
        "# Train the model\n",
        "def train_model(model, X_train, y_train):\n",
        "  log_activity(\"Training the model\")\n",
        "  model.fit(X_train, y_train)\n",
        "  return model"
      ],
      "metadata": {
        "id": "xU_H0rN4aI_G"
      },
      "execution_count": null,
      "outputs": []
    },
    {
      "cell_type": "code",
      "source": [
        "trained_model = train_model(model, X_train_selected, y_train)"
      ],
      "metadata": {
        "id": "hiQYyOo1eygl"
      },
      "execution_count": null,
      "outputs": []
    },
    {
      "cell_type": "code",
      "source": [
        "from sklearn.metrics import mean_squared_error, mean_absolute_error, r2_score\n",
        "import numpy as np\n",
        "\n",
        "def evaluate_model(model, X_test, y_test):\n",
        "    log_activity(\"Evaluating the model\")\n",
        "    predictions = model.predict(X_test)\n",
        "\n",
        "    # Calculate metrics\n",
        "    mse = mean_squared_error(y_test, predictions)\n",
        "    rmse = np.sqrt(mse)\n",
        "    mae = mean_absolute_error(y_test, predictions)\n",
        "    mape = np.mean(np.abs((y_test - predictions) / y_test)) * 100  # MAPE in percentage\n",
        "    r2 = r2_score(y_test, predictions)\n",
        "\n",
        "    # For calculating accuracy, we use a tolerance level\n",
        "    tolerance = 0.1  # 10% tolerance for prediction accuracy\n",
        "    accuracy = np.mean(np.abs((y_test - predictions) / y_test) <= tolerance)\n",
        "\n",
        "    # Print all metrics\n",
        "    print(f\"Mean Squared Error (MSE): {mse:.2f}\")\n",
        "    print(f\"Root Mean Squared Error (RMSE): {rmse:.2f}\")\n",
        "    print(f\"Mean Absolute Error (MAE): {mae:.2f}\")\n",
        "    print(f\"Mean Absolute Percentage Error (MAPE): {mape:.2f}%\")\n",
        "    print(f\"R^2 Score: {r2:.4f}\")\n",
        "    print(f\"Accuracy within 10% tolerance: {accuracy * 100:.2f}%\")\n",
        "\n",
        "    # Log all metrics\n",
        "    log_activity(f\"MSE: {mse:.2f}, RMSE: {rmse:.2f}, MAE: {mae:.2f}, MAPE: {mape:.2f}%, R^2: {r2:.4f}, Accuracy: {accuracy * 100:.2f}%\")\n",
        "    print(mae)\n",
        "    res = {\n",
        "        \"mse\": mse,\n",
        "        \"rmse\": rmse,\n",
        "        \"mae\": mae,\n",
        "        \"mape\": mape,\n",
        "        \"r2\": r2,\n",
        "        \"accuracy_within_tolerance\": accuracy\n",
        "    }\n",
        "    print(res)\n",
        "    return mse, rmse, mae, mape,r2, accuracy\n"
      ],
      "metadata": {
        "id": "y5wBxOlTesZO"
      },
      "execution_count": null,
      "outputs": []
    },
    {
      "cell_type": "code",
      "source": [],
      "metadata": {
        "id": "jjeJZA7fOHXI"
      },
      "execution_count": null,
      "outputs": []
    },
    {
      "cell_type": "code",
      "source": [
        "mse, rmse,mae, mape,r2, accuracy = evaluate_model(trained_model, X_test_selected, y_test)\n"
      ],
      "metadata": {
        "colab": {
          "base_uri": "https://localhost:8080/"
        },
        "id": "2w0iLw1Gex1d",
        "outputId": "682a56ca-ee08-44a1-9d4d-064f51a5f759"
      },
      "execution_count": null,
      "outputs": [
        {
          "output_type": "stream",
          "name": "stdout",
          "text": [
            "Mean Squared Error (MSE): 14994770058.84\n",
            "Root Mean Squared Error (RMSE): 122453.13\n",
            "Mean Absolute Error (MAE): 56075.07\n",
            "Mean Absolute Percentage Error (MAPE): 19.59%\n",
            "R^2 Score: 0.9524\n",
            "Accuracy within 10% tolerance: 64.68%\n",
            "56075.0682000103\n",
            "{'mse': 14994770058.837719, 'rmse': 122453.13413235988, 'mae': 56075.0682000103, 'mape': 19.592648651089632, 'r2': 0.9523597094979452, 'accuracy_within_tolerance': 0.6468027434391556}\n"
          ]
        }
      ]
    },
    {
      "cell_type": "code",
      "source": [],
      "metadata": {
        "id": "idUZVrrwMXqm"
      },
      "execution_count": null,
      "outputs": []
    },
    {
      "cell_type": "code",
      "source": [
        "def feature_selection_with_rfe(model, X_train, y_train, X_test, y_test):\n",
        "    \"\"\"\n",
        "    Perform feature selection using RFE and maintain all features in a dictionary\n",
        "    for analysis and understanding.\n",
        "    \"\"\"\n",
        "    results_dict = {}  # To store all features and evaluation metrics\n",
        "    best_features_count = None\n",
        "    best_MAE_score = +np.inf\n",
        "    best_features = None\n",
        "\n",
        "    for n_features in range(X_train.shape[1], 1, -1):  # Start with all features, go down to 2\n",
        "        print(\"**************************************\")\n",
        "        print(f\"Performing RFE with {n_features} features\")\n",
        "        log_activity('*******************************************')\n",
        "        log_activity(f\"Performing RFE with {n_features} features\")\n",
        "\n",
        "        # Perform Recursive Feature Elimination\n",
        "        rfe = RFE(estimator=model, n_features_to_select=n_features)\n",
        "        rfe.fit(X_train, y_train)\n",
        "\n",
        "        # Get selected features and transform datasets\n",
        "        selected_features = X_train.columns[rfe.support_]\n",
        "        X_train_transformed = rfe.transform(X_train)\n",
        "        X_test_transformed = rfe.transform(X_test)\n",
        "\n",
        "        # Train and evaluate the model\n",
        "        model = train_model(model, X_train_transformed, y_train)\n",
        "        mse, rmse, mae, mape,r2, accuracy = evaluate_model(model, X_test_transformed, y_test)\n",
        "        print(\"mae\", mae)\n",
        "        # Store the metrics and features in the dictionary\n",
        "        results_dict[n_features] = {\n",
        "            \"features\": selected_features.tolist(),\n",
        "            \"mse\": mse,\n",
        "            \"rmse\": rmse,\n",
        "            \"mape\": mape,\n",
        "            \"mae\": mae,\n",
        "            \"r2\": r2,\n",
        "            \"accuracy\": accuracy,\n",
        "        }\n",
        "\n",
        "        # log_activity(f\"Features count: {n_features}, R^2 Score: {r2}, mse: {mse}, maae: {mae}, accuracy: {accuracy}\")\n",
        "        log_activity(f'selected features: {selected_features.tolist()}')\n",
        "        log_activity(f'Features count: {n_features}')\n",
        "        # log\n",
        "        print(type(mae), type(best_MAE_score), mae, best_MAE_score)\n",
        "        # Update the best feature subset if the current R^2 score is better\n",
        "        if mae < best_MAE_score:\n",
        "            best_MAE_score = mae\n",
        "            best_features_count = n_features\n",
        "            best_features = selected_features\n",
        "\n",
        "    print(f\"Best number of features: {best_features_count}\")\n",
        "    print(f\"Selected Features: {best_features.tolist()}\")\n",
        "    log_activity(\"******************************************************\")\n",
        "    log_activity(f\"Optimal Features Count: {best_features_count}, Features: {best_features.tolist()}\")\n",
        "\n",
        "    return best_features, best_features_count, results_dict\n"
      ],
      "metadata": {
        "id": "_vVLVKLXe5Qk"
      },
      "execution_count": null,
      "outputs": []
    },
    {
      "cell_type": "code",
      "source": [
        "log_activity(\"******************************************************\")\n",
        "log_activity(\"******************************************************\")\n",
        "log_activity(\"******************************************************\")"
      ],
      "metadata": {
        "id": "OUfgzceGY5ES"
      },
      "execution_count": null,
      "outputs": []
    },
    {
      "cell_type": "code",
      "source": [
        "best_features, best_features_count, performance_metrics =  feature_selection_with_rfe(model, X_train, y_train, X_test, y_test)\n"
      ],
      "metadata": {
        "colab": {
          "base_uri": "https://localhost:8080/"
        },
        "id": "v993p38KsIcx",
        "outputId": "8445efa2-481d-40cd-b384-7726a7780ffa"
      },
      "execution_count": null,
      "outputs": [
        {
          "output_type": "stream",
          "name": "stdout",
          "text": [
            "**************************************\n",
            "Performing RFE with 22 features\n",
            "Mean Squared Error (MSE): 16146096689.85\n",
            "Root Mean Squared Error (RMSE): 127067.29\n",
            "Mean Absolute Error (MAE): 55013.91\n",
            "Mean Absolute Percentage Error (MAPE): 19.33%\n",
            "R^2 Score: 0.9487\n",
            "Accuracy within 10% tolerance: 65.21%\n",
            "55013.911766411016\n",
            "{'mse': 16146096689.854126, 'rmse': 127067.29197497728, 'mae': 55013.911766411016, 'mape': 19.331686696849648, 'r2': 0.948701798443014, 'accuracy_within_tolerance': 0.6520596328391309}\n",
            "mae 55013.911766411016\n",
            "<class 'numpy.float64'> <class 'float'> 55013.911766411016 inf\n",
            "**************************************\n",
            "Performing RFE with 21 features\n",
            "Mean Squared Error (MSE): 17090519594.60\n",
            "Root Mean Squared Error (RMSE): 130730.71\n",
            "Mean Absolute Error (MAE): 55137.25\n",
            "Mean Absolute Percentage Error (MAPE): 19.49%\n",
            "R^2 Score: 0.9457\n",
            "Accuracy within 10% tolerance: 65.48%\n",
            "55137.24918026544\n",
            "{'mse': 17090519594.599009, 'rmse': 130730.71404455423, 'mae': 55137.24918026544, 'mape': 19.491570782775376, 'r2': 0.9457012468265308, 'accuracy_within_tolerance': 0.6547702164359933}\n",
            "mae 55137.24918026544\n",
            "<class 'numpy.float64'> <class 'numpy.float64'> 55137.24918026544 55013.911766411016\n",
            "**************************************\n",
            "Performing RFE with 20 features\n",
            "Mean Squared Error (MSE): 16670408587.08\n",
            "Root Mean Squared Error (RMSE): 129113.94\n",
            "Mean Absolute Error (MAE): 55141.32\n",
            "Mean Absolute Percentage Error (MAPE): 18.25%\n",
            "R^2 Score: 0.9470\n",
            "Accuracy within 10% tolerance: 65.83%\n",
            "55141.31534395904\n",
            "{'mse': 16670408587.08282, 'rmse': 129113.9364556856, 'mae': 55141.31534395904, 'mape': 18.252970912139794, 'r2': 0.947035992898838, 'accuracy_within_tolerance': 0.6582611195531644}\n",
            "mae 55141.31534395904\n",
            "<class 'numpy.float64'> <class 'numpy.float64'> 55141.31534395904 55013.911766411016\n",
            "**************************************\n",
            "Performing RFE with 19 features\n",
            "Mean Squared Error (MSE): 16770830454.72\n",
            "Root Mean Squared Error (RMSE): 129502.24\n",
            "Mean Absolute Error (MAE): 55720.79\n",
            "Mean Absolute Percentage Error (MAPE): 19.50%\n",
            "R^2 Score: 0.9467\n",
            "Accuracy within 10% tolerance: 64.93%\n",
            "55720.79269416825\n",
            "{'mse': 16770830454.721857, 'rmse': 129502.2411185299, 'mae': 55720.79269416825, 'mape': 19.49769556547924, 'r2': 0.9467169398604579, 'accuracy_within_tolerance': 0.6493490492422687}\n",
            "mae 55720.79269416825\n",
            "<class 'numpy.float64'> <class 'numpy.float64'> 55720.79269416825 55013.911766411016\n",
            "**************************************\n",
            "Performing RFE with 18 features\n",
            "Mean Squared Error (MSE): 17802792357.28\n",
            "Root Mean Squared Error (RMSE): 133427.11\n",
            "Mean Absolute Error (MAE): 54979.79\n",
            "Mean Absolute Percentage Error (MAPE): 18.67%\n",
            "R^2 Score: 0.9434\n",
            "Accuracy within 10% tolerance: 66.26%\n",
            "54979.79387264886\n",
            "{'mse': 17802792357.275578, 'rmse': 133427.10503220692, 'mae': 54979.79387264886, 'mape': 18.670541061748466, 'r2': 0.943438265720621, 'accuracy_within_tolerance': 0.6625734116390817}\n",
            "mae 54979.79387264886\n",
            "<class 'numpy.float64'> <class 'numpy.float64'> 54979.79387264886 55013.911766411016\n",
            "**************************************\n",
            "Performing RFE with 17 features\n",
            "Mean Squared Error (MSE): 19971103518.53\n",
            "Root Mean Squared Error (RMSE): 141319.15\n",
            "Mean Absolute Error (MAE): 55551.75\n",
            "Mean Absolute Percentage Error (MAPE): 19.45%\n",
            "R^2 Score: 0.9365\n",
            "Accuracy within 10% tolerance: 65.54%\n",
            "55551.7507038758\n",
            "{'mse': 19971103518.53069, 'rmse': 141319.1548182011, 'mae': 55551.7507038758, 'mape': 19.447577679638673, 'r2': 0.9365492655415113, 'accuracy_within_tolerance': 0.6554273276109902}\n",
            "mae 55551.7507038758\n",
            "<class 'numpy.float64'> <class 'numpy.float64'> 55551.7507038758 54979.79387264886\n",
            "**************************************\n",
            "Performing RFE with 16 features\n",
            "Mean Squared Error (MSE): 16487403571.56\n",
            "Root Mean Squared Error (RMSE): 128403.28\n",
            "Mean Absolute Error (MAE): 55597.68\n",
            "Mean Absolute Percentage Error (MAPE): 18.81%\n",
            "R^2 Score: 0.9476\n",
            "Accuracy within 10% tolerance: 65.18%\n",
            "55597.68119640242\n",
            "{'mse': 16487403571.556652, 'rmse': 128403.28489394908, 'mae': 55597.68119640242, 'mape': 18.81114964812817, 'r2': 0.9476174230954192, 'accuracy_within_tolerance': 0.6518132161485072}\n",
            "mae 55597.68119640242\n",
            "<class 'numpy.float64'> <class 'numpy.float64'> 55597.68119640242 54979.79387264886\n",
            "**************************************\n",
            "Performing RFE with 15 features\n",
            "Mean Squared Error (MSE): 16628518886.45\n",
            "Root Mean Squared Error (RMSE): 128951.61\n",
            "Mean Absolute Error (MAE): 55227.58\n",
            "Mean Absolute Percentage Error (MAPE): 19.50%\n",
            "R^2 Score: 0.9472\n",
            "Accuracy within 10% tolerance: 65.46%\n",
            "55227.57559948962\n",
            "{'mse': 16628518886.451054, 'rmse': 128951.61451665137, 'mae': 55227.57559948962, 'mape': 19.503504728451126, 'r2': 0.9471690818024564, 'accuracy_within_tolerance': 0.654605938642244}\n",
            "mae 55227.57559948962\n",
            "<class 'numpy.float64'> <class 'numpy.float64'> 55227.57559948962 54979.79387264886\n",
            "**************************************\n",
            "Performing RFE with 14 features\n",
            "Mean Squared Error (MSE): 15474155877.12\n",
            "Root Mean Squared Error (RMSE): 124395.16\n",
            "Mean Absolute Error (MAE): 54945.49\n",
            "Mean Absolute Percentage Error (MAPE): 20.02%\n",
            "R^2 Score: 0.9508\n",
            "Accuracy within 10% tolerance: 65.33%\n",
            "54945.49129323306\n",
            "{'mse': 15474155877.12266, 'rmse': 124395.160183677, 'mae': 54945.49129323306, 'mape': 20.019648277618447, 'r2': 0.9508366398172469, 'accuracy_within_tolerance': 0.6532917162922502}\n",
            "mae 54945.49129323306\n",
            "<class 'numpy.float64'> <class 'numpy.float64'> 54945.49129323306 54979.79387264886\n",
            "**************************************\n",
            "Performing RFE with 13 features\n",
            "Mean Squared Error (MSE): 15685628205.46\n",
            "Root Mean Squared Error (RMSE): 125242.28\n",
            "Mean Absolute Error (MAE): 55058.37\n",
            "Mean Absolute Percentage Error (MAPE): 18.85%\n",
            "R^2 Score: 0.9502\n",
            "Accuracy within 10% tolerance: 65.79%\n",
            "55058.37213800791\n",
            "{'mse': 15685628205.460297, 'rmse': 125242.2780272712, 'mae': 55058.37213800791, 'mape': 18.847795920259447, 'r2': 0.9501647653493078, 'accuracy_within_tolerance': 0.6579325639656659}\n",
            "mae 55058.37213800791\n",
            "<class 'numpy.float64'> <class 'numpy.float64'> 55058.37213800791 54945.49129323306\n",
            "**************************************\n",
            "Performing RFE with 12 features\n",
            "Mean Squared Error (MSE): 16389508360.82\n",
            "Root Mean Squared Error (RMSE): 128021.52\n",
            "Mean Absolute Error (MAE): 55223.17\n",
            "Mean Absolute Percentage Error (MAPE): 19.70%\n",
            "R^2 Score: 0.9479\n",
            "Accuracy within 10% tolerance: 66.00%\n",
            "55223.17160943227\n",
            "{'mse': 16389508360.82261, 'rmse': 128021.51522624082, 'mae': 55223.17160943227, 'mape': 19.698196888790047, 'r2': 0.9479284486236419, 'accuracy_within_tolerance': 0.6599860363875313}\n",
            "mae 55223.17160943227\n",
            "<class 'numpy.float64'> <class 'numpy.float64'> 55223.17160943227 54945.49129323306\n",
            "**************************************\n",
            "Performing RFE with 11 features\n",
            "Mean Squared Error (MSE): 15726752242.66\n",
            "Root Mean Squared Error (RMSE): 125406.35\n",
            "Mean Absolute Error (MAE): 55191.88\n",
            "Mean Absolute Percentage Error (MAPE): 20.92%\n",
            "R^2 Score: 0.9500\n",
            "Accuracy within 10% tolerance: 64.87%\n",
            "55191.87520354243\n",
            "{'mse': 15726752242.65643, 'rmse': 125406.34849423067, 'mae': 55191.87520354243, 'mape': 20.922179382515253, 'r2': 0.9500341090557498, 'accuracy_within_tolerance': 0.6486919380672718}\n",
            "mae 55191.87520354243\n",
            "<class 'numpy.float64'> <class 'numpy.float64'> 55191.87520354243 54945.49129323306\n",
            "**************************************\n",
            "Performing RFE with 10 features\n",
            "Mean Squared Error (MSE): 14994770058.84\n",
            "Root Mean Squared Error (RMSE): 122453.13\n",
            "Mean Absolute Error (MAE): 56075.07\n",
            "Mean Absolute Percentage Error (MAPE): 19.59%\n",
            "R^2 Score: 0.9524\n",
            "Accuracy within 10% tolerance: 64.68%\n",
            "56075.0682000103\n",
            "{'mse': 14994770058.837719, 'rmse': 122453.13413235988, 'mae': 56075.0682000103, 'mape': 19.592648651089632, 'r2': 0.9523597094979452, 'accuracy_within_tolerance': 0.6468027434391556}\n",
            "mae 56075.0682000103\n",
            "<class 'numpy.float64'> <class 'numpy.float64'> 56075.0682000103 54945.49129323306\n",
            "**************************************\n",
            "Performing RFE with 9 features\n",
            "Mean Squared Error (MSE): 17783458121.51\n",
            "Root Mean Squared Error (RMSE): 133354.63\n",
            "Mean Absolute Error (MAE): 57272.45\n",
            "Mean Absolute Percentage Error (MAPE): 19.70%\n",
            "R^2 Score: 0.9435\n",
            "Accuracy within 10% tolerance: 65.81%\n",
            "57272.45391982317\n",
            "{'mse': 17783458121.507526, 'rmse': 133354.63292104827, 'mae': 57272.45391982317, 'mape': 19.699999275325393, 'r2': 0.9434996930452823, 'accuracy_within_tolerance': 0.6580968417594152}\n",
            "mae 57272.45391982317\n",
            "<class 'numpy.float64'> <class 'numpy.float64'> 57272.45391982317 54945.49129323306\n",
            "**************************************\n",
            "Performing RFE with 8 features\n",
            "Mean Squared Error (MSE): 23922830496.52\n",
            "Root Mean Squared Error (RMSE): 154670.07\n",
            "Mean Absolute Error (MAE): 58496.39\n",
            "Mean Absolute Percentage Error (MAPE): 19.57%\n",
            "R^2 Score: 0.9240\n",
            "Accuracy within 10% tolerance: 65.64%\n",
            "58496.387456927216\n",
            "{'mse': 23922830496.515266, 'rmse': 154670.06981480052, 'mae': 58496.387456927216, 'mape': 19.569567017346106, 'r2': 0.9239941266179215, 'accuracy_within_tolerance': 0.6564129943734855}\n",
            "mae 58496.387456927216\n",
            "<class 'numpy.float64'> <class 'numpy.float64'> 58496.387456927216 54945.49129323306\n",
            "**************************************\n",
            "Performing RFE with 7 features\n",
            "Mean Squared Error (MSE): 21738532472.22\n",
            "Root Mean Squared Error (RMSE): 147439.93\n",
            "Mean Absolute Error (MAE): 60274.29\n",
            "Mean Absolute Percentage Error (MAPE): 21.23%\n",
            "R^2 Score: 0.9309\n",
            "Accuracy within 10% tolerance: 65.21%\n",
            "60274.28597047989\n",
            "{'mse': 21738532472.223885, 'rmse': 147439.9283512573, 'mae': 60274.28597047989, 'mape': 21.225812324321886, 'r2': 0.9309339190930301, 'accuracy_within_tolerance': 0.6521417717360056}\n",
            "mae 60274.28597047989\n",
            "<class 'numpy.float64'> <class 'numpy.float64'> 60274.28597047989 54945.49129323306\n",
            "**************************************\n",
            "Performing RFE with 6 features\n",
            "Mean Squared Error (MSE): 25688646922.76\n",
            "Root Mean Squared Error (RMSE): 160276.78\n",
            "Mean Absolute Error (MAE): 64544.21\n",
            "Mean Absolute Percentage Error (MAPE): 23.14%\n",
            "R^2 Score: 0.9184\n",
            "Accuracy within 10% tolerance: 63.44%\n",
            "64544.214727051505\n",
            "{'mse': 25688646922.76262, 'rmse': 160276.7822323702, 'mae': 64544.214727051505, 'mape': 23.139817709720546, 'r2': 0.9183839033741085, 'accuracy_within_tolerance': 0.634440839459526}\n",
            "mae 64544.214727051505\n",
            "<class 'numpy.float64'> <class 'numpy.float64'> 64544.214727051505 54945.49129323306\n",
            "**************************************\n",
            "Performing RFE with 5 features\n",
            "Mean Squared Error (MSE): 41143203158.47\n",
            "Root Mean Squared Error (RMSE): 202837.87\n",
            "Mean Absolute Error (MAE): 78132.94\n",
            "Mean Absolute Percentage Error (MAPE): 26.03%\n",
            "R^2 Score: 0.8693\n",
            "Accuracy within 10% tolerance: 61.92%\n",
            "78132.9370291853\n",
            "{'mse': 41143203158.465324, 'rmse': 202837.8740730274, 'mae': 78132.9370291853, 'mape': 26.029750188154726, 'r2': 0.8692828137435091, 'accuracy_within_tolerance': 0.619204074089285}\n",
            "mae 78132.9370291853\n",
            "<class 'numpy.float64'> <class 'numpy.float64'> 78132.9370291853 54945.49129323306\n",
            "**************************************\n",
            "Performing RFE with 4 features\n",
            "Mean Squared Error (MSE): 39597033407.33\n",
            "Root Mean Squared Error (RMSE): 198990.03\n",
            "Mean Absolute Error (MAE): 77426.52\n",
            "Mean Absolute Percentage Error (MAPE): 25.70%\n",
            "R^2 Score: 0.8742\n",
            "Accuracy within 10% tolerance: 62.07%\n",
            "77426.52444161593\n",
            "{'mse': 39597033407.32745, 'rmse': 198990.03343717355, 'mae': 77426.52444161593, 'mape': 25.703842299582824, 'r2': 0.874195191580626, 'accuracy_within_tolerance': 0.6207236436814654}\n",
            "mae 77426.52444161593\n",
            "<class 'numpy.float64'> <class 'numpy.float64'> 77426.52444161593 54945.49129323306\n",
            "**************************************\n",
            "Performing RFE with 3 features\n",
            "Mean Squared Error (MSE): 62086011233.60\n",
            "Root Mean Squared Error (RMSE): 249170.65\n",
            "Mean Absolute Error (MAE): 131549.86\n",
            "Mean Absolute Percentage Error (MAPE): 38.54%\n",
            "R^2 Score: 0.8027\n",
            "Accuracy within 10% tolerance: 26.99%\n",
            "131549.8646586808\n",
            "{'mse': 62086011233.59849, 'rmse': 249170.646813782, 'mae': 131549.8646586808, 'mape': 38.5407393760776, 'r2': 0.8027448503927422, 'accuracy_within_tolerance': 0.2699084151299848}\n",
            "mae 131549.8646586808\n",
            "<class 'numpy.float64'> <class 'numpy.float64'> 131549.8646586808 54945.49129323306\n",
            "**************************************\n",
            "Performing RFE with 2 features\n",
            "Mean Squared Error (MSE): 107401893313.64\n",
            "Root Mean Squared Error (RMSE): 327722.28\n",
            "Mean Absolute Error (MAE): 150341.58\n",
            "Mean Absolute Percentage Error (MAPE): 44.68%\n",
            "R^2 Score: 0.6588\n",
            "Accuracy within 10% tolerance: 25.02%\n",
            "150341.58476188703\n",
            "{'mse': 107401893313.64027, 'rmse': 327722.28077083844, 'mae': 150341.58476188703, 'mape': 44.68225003394055, 'r2': 0.6587705328020805, 'accuracy_within_tolerance': 0.2501950798800772}\n",
            "mae 150341.58476188703\n",
            "<class 'numpy.float64'> <class 'numpy.float64'> 150341.58476188703 54945.49129323306\n",
            "Best number of features: 14\n",
            "Selected Features: ['lotdepth', 'community', 'washrooms', 'total_parking_spaces', 'sqft', 'lotfront', 'sold_price', 'type', 'kitchens_plus', 'style', 'rooms_plus', 'rooms', 'garage_spaces', 'parking_spaces']\n"
          ]
        }
      ]
    },
    {
      "cell_type": "code",
      "source": [
        "best_features"
      ],
      "metadata": {
        "colab": {
          "base_uri": "https://localhost:8080/"
        },
        "id": "HT2twpn4sONi",
        "outputId": "2d8bdd57-e6ee-4448-d905-a5d8cfde9fd7"
      },
      "execution_count": null,
      "outputs": [
        {
          "output_type": "execute_result",
          "data": {
            "text/plain": [
              "Index(['lotdepth', 'community', 'washrooms', 'total_parking_spaces', 'sqft',\n",
              "       'lotfront', 'sold_price', 'type', 'kitchens_plus', 'style',\n",
              "       'rooms_plus', 'rooms', 'garage_spaces', 'parking_spaces'],\n",
              "      dtype='object')"
            ]
          },
          "metadata": {},
          "execution_count": 31
        }
      ]
    },
    {
      "cell_type": "code",
      "source": [
        "best_features_count"
      ],
      "metadata": {
        "colab": {
          "base_uri": "https://localhost:8080/"
        },
        "id": "cQvayKR67Q-w",
        "outputId": "f9d04cb6-f042-46f5-d2b9-46998751f80c"
      },
      "execution_count": null,
      "outputs": [
        {
          "output_type": "execute_result",
          "data": {
            "text/plain": [
              "14"
            ]
          },
          "metadata": {},
          "execution_count": 32
        }
      ]
    },
    {
      "cell_type": "code",
      "source": [
        "def extract_features_from_performance_metrics(performance_metrics, comaparison_paremeter):\n",
        "  best_features_count = None\n",
        "  best_performance_score = +np.inf\n",
        "  best_features = None\n",
        "  for key, value in performance_metrics.items():\n",
        "    if value[comaparison_paremeter] < best_performance_score:\n",
        "      best_performance_score = value[comaparison_paremeter]\n",
        "      best_features_count = key\n",
        "      best_features = value[\"features\"]\n",
        "  return best_features, best_features_count, best_performance_score"
      ],
      "metadata": {
        "id": "_kSeua1tVb3F"
      },
      "execution_count": null,
      "outputs": []
    },
    {
      "cell_type": "code",
      "source": [
        "best_features, best_features_count, best_performance_score = extract_features_from_performance_metrics(performance_metrics, \"mae\")\n",
        "print(best_features)\n",
        "print(best_features_count)\n",
        "print(best_performance_score)"
      ],
      "metadata": {
        "colab": {
          "base_uri": "https://localhost:8080/"
        },
        "id": "exsIwUIsWcY1",
        "outputId": "d48eec4e-e561-464e-f99c-1621c1362f87"
      },
      "execution_count": null,
      "outputs": [
        {
          "output_type": "stream",
          "name": "stdout",
          "text": [
            "['lotdepth', 'community', 'washrooms', 'total_parking_spaces', 'sqft', 'lotfront', 'sold_price', 'type', 'kitchens_plus', 'style', 'rooms_plus', 'rooms', 'garage_spaces', 'parking_spaces']\n",
            "14\n",
            "54945.49129323306\n"
          ]
        }
      ]
    },
    {
      "cell_type": "code",
      "source": [
        "best_selected_params = ['lotdepth', 'community', 'washrooms', 'total_parking_spaces', 'sqft', 'lotfront', 'type', 'kitchens_plus', 'style', 'rooms_plus', 'rooms', 'garage_spaces', 'parking_spaces']\n",
        "target = 'list_price'\n",
        "best_selected_params.append(target)\n"
      ],
      "metadata": {
        "id": "NLQgpLbvWh0X"
      },
      "execution_count": null,
      "outputs": []
    },
    {
      "cell_type": "code",
      "source": [
        "best_selected_params = ['lotdepth', 'community', 'washrooms', 'brokerage', 'sqft', 'lotfront', 'type', 'kitchens_plus', 'style', 'rooms_plus', 'rooms', 'garage_spaces', 'parking_spaces']\n",
        "target = 'list_price'\n",
        "best_selected_params.append(target)"
      ],
      "metadata": {
        "id": "Gnmi4rKFe0Q7"
      },
      "execution_count": null,
      "outputs": []
    },
    {
      "cell_type": "code",
      "source": [],
      "metadata": {
        "id": "A_SVMRpqEoop"
      },
      "execution_count": null,
      "outputs": []
    },
    {
      "cell_type": "code",
      "source": [
        "df_best_features = df[best_selected_params]"
      ],
      "metadata": {
        "id": "8sjU-3jgBQyG"
      },
      "execution_count": null,
      "outputs": []
    },
    {
      "cell_type": "code",
      "source": [
        "df_best_features.columns"
      ],
      "metadata": {
        "colab": {
          "base_uri": "https://localhost:8080/"
        },
        "id": "fT47oCgoRKEI",
        "outputId": "42e29013-bea8-4e66-a511-4165301408c2"
      },
      "execution_count": null,
      "outputs": [
        {
          "output_type": "execute_result",
          "data": {
            "text/plain": [
              "Index(['lotdepth', 'community', 'washrooms', 'brokerage', 'sqft', 'lotfront',\n",
              "       'type', 'kitchens_plus', 'style', 'rooms_plus', 'rooms',\n",
              "       'garage_spaces', 'parking_spaces', 'list_price'],\n",
              "      dtype='object')"
            ]
          },
          "metadata": {},
          "execution_count": 21
        }
      ]
    },
    {
      "cell_type": "code",
      "source": [
        "X_new, y_new = define_features_and_target(df_best_features, 'list_price')"
      ],
      "metadata": {
        "id": "BpCH3Ew47Qwi"
      },
      "execution_count": null,
      "outputs": []
    },
    {
      "cell_type": "code",
      "source": [
        "X_train_new, X_test_new, y_train_new, y_test_new = split_data(X_new, y_new)"
      ],
      "metadata": {
        "id": "LHAyF9717Vq5"
      },
      "execution_count": null,
      "outputs": []
    },
    {
      "cell_type": "code",
      "source": [
        "from sklearn.metrics import mean_absolute_error\n",
        "\n",
        "from sklearn.metrics import mean_absolute_percentage_error"
      ],
      "metadata": {
        "id": "8mikwOyLQuUl"
      },
      "execution_count": null,
      "outputs": []
    },
    {
      "cell_type": "code",
      "source": [
        "from sklearn import svm\n",
        "from sklearn.svm import SVC\n",
        "\n",
        "svr_model = svm.SVR()\n",
        "svr_model.fit(X_train_new, y_train_new)\n",
        "y_pred_svm = svr_model.predict(X_test_new)\n"
      ],
      "metadata": {
        "collapsed": true,
        "id": "BK3Gntp3DVpM"
      },
      "execution_count": null,
      "outputs": []
    },
    {
      "cell_type": "code",
      "source": [
        "svm_mae = mean_absolute_error(y_test_new, y_pred_svm)\n",
        "svm_mape = mean_absolute_percentage_error(y_test_new, y_pred_svm)\n",
        "print(f\"SVM MAE: {svm_mae}\")\n",
        "print(f\"SVM MAPE: {svm_mape}\")"
      ],
      "metadata": {
        "colab": {
          "base_uri": "https://localhost:8080/"
        },
        "id": "V_f3SsxOkTj1",
        "outputId": "604c903f-661b-4845-a3ac-086208a226a0"
      },
      "execution_count": null,
      "outputs": [
        {
          "output_type": "stream",
          "name": "stdout",
          "text": [
            "SVM MAE: 264870.3387340982\n",
            "SVM MAPE: 0.6307472320281368\n"
          ]
        }
      ]
    },
    {
      "cell_type": "code",
      "source": [
        "svr_model.score(X_test_new, y_test_new)"
      ],
      "metadata": {
        "colab": {
          "base_uri": "https://localhost:8080/"
        },
        "id": "qGiPELTnTuXb",
        "outputId": "09cd2f25-b9ca-4cd2-c75c-a07e973c0157"
      },
      "execution_count": null,
      "outputs": [
        {
          "output_type": "execute_result",
          "data": {
            "text/plain": [
              "-0.062250083509460596"
            ]
          },
          "metadata": {},
          "execution_count": 34
        }
      ]
    },
    {
      "cell_type": "code",
      "source": [
        "svm_mae = mean_absolute_error(y_test_new, y_pred_svm)\n",
        "svm_mape = mean_absolute_percentage_error(y_test_new, y_pred_svm)\n",
        "print(f\"SVM MAE: {svm_mae}\")\n",
        "print(f\"SVM MAPE: {svm_mape}\")"
      ],
      "metadata": {
        "colab": {
          "base_uri": "https://localhost:8080/"
        },
        "id": "YGjYjxdwHLB2",
        "outputId": "4d1729b3-d0f4-40c2-dd54-2753293f6de6"
      },
      "execution_count": null,
      "outputs": [
        {
          "output_type": "stream",
          "name": "stdout",
          "text": [
            "SVM MAE: 264870.33906975837\n",
            "SVM MAPE: 0.6307472334157193\n"
          ]
        }
      ]
    },
    {
      "cell_type": "code",
      "source": [
        "import joblib\n",
        "joblib.dump(svr_model, drive_path +'models/svr_model_new.pkl')\n",
        "print(\"Model saved as svr_model.pkl\")\n"
      ],
      "metadata": {
        "colab": {
          "base_uri": "https://localhost:8080/"
        },
        "id": "M-N_g1YpQ25h",
        "outputId": "0abf51d2-ce93-447c-efb1-4aa60477daa4"
      },
      "execution_count": null,
      "outputs": [
        {
          "output_type": "stream",
          "name": "stdout",
          "text": [
            "Model saved as svr_model.pkl\n"
          ]
        }
      ]
    },
    {
      "cell_type": "code",
      "source": [
        "# Load the model from the file\n",
        "loaded_model_test = joblib.load(drive_path +'models/svr_model_new.pkl')\n",
        "print(\"Model loaded successfully\")\n",
        "\n",
        "# Make predictions using the loaded model\n",
        "predictions_test = loaded_model_test.predict(X_test_new)\n",
        "print(\"Predictions:\", predictions_test)\n"
      ],
      "metadata": {
        "id": "Sp78ZUdlRWbd",
        "colab": {
          "base_uri": "https://localhost:8080/"
        },
        "outputId": "57326430-c014-4e79-95e7-c0689e5ab776"
      },
      "execution_count": null,
      "outputs": [
        {
          "output_type": "stream",
          "name": "stdout",
          "text": [
            "Model loaded successfully\n",
            "Predictions: [375769.92182062 354403.53657051 354166.87170978 ... 363628.71427741\n",
            " 350880.59886351 350880.59741921]\n"
          ]
        }
      ]
    },
    {
      "cell_type": "code",
      "source": [
        "import joblib\n",
        "\n",
        "# Save the SVR model\n",
        "joblib.dump(svr_model, drive_path +'models/svr_model_new.joblib')\n",
        "\n",
        "# Load the SVR model\n",
        "loaded_model = joblib.load(drive_path +'models/svr_model_new.joblib')\n",
        "\n",
        "# Make predictions\n",
        "predictions = loaded_model.predict(X_test_new)\n",
        "print(\"Predictions:\", predictions)\n"
      ],
      "metadata": {
        "colab": {
          "base_uri": "https://localhost:8080/"
        },
        "id": "rTtEe99_SEJZ",
        "outputId": "a9e0a9ab-a16a-4729-f312-e5a03e267ff7"
      },
      "execution_count": null,
      "outputs": [
        {
          "output_type": "stream",
          "name": "stdout",
          "text": [
            "Predictions: [358108.51764547 357982.95122234 358001.82845785 ... 357953.63030917\n",
            " 358004.63196834 357996.68378379]\n"
          ]
        }
      ]
    },
    {
      "cell_type": "code",
      "source": [
        "print(\"Predictions:\", predictions)"
      ],
      "metadata": {
        "id": "TRpl3DTrVe0F"
      },
      "execution_count": null,
      "outputs": []
    },
    {
      "cell_type": "code",
      "source": [
        "from sklearn import svm\n",
        "\n",
        "svr_model = svm.SVR(kernel='rbf', C=1.0, epsilon=0.5, gamma='scale', degree=2, shrinking=True, tol=1e-4)\n",
        "svr_model.fit(X_train_new, y_train_new)\n",
        "y_pred_svm = svr_model.predict(X_test_new)\n"
      ],
      "metadata": {
        "id": "z9yJPnTftv4-"
      },
      "execution_count": null,
      "outputs": []
    },
    {
      "cell_type": "code",
      "source": [
        "svm_mae = mean_absolute_error(y_test_new, y_pred_svm)\n",
        "svm_mape = mean_absolute_percentage_error(y_test_new, y_pred_svm)\n",
        "print(f\"SVM MAE: {svm_mae}\")\n",
        "print(f\"SVM MAPE: {svm_mape}\")"
      ],
      "metadata": {
        "colab": {
          "base_uri": "https://localhost:8080/"
        },
        "id": "Y2lM2hfS5L07",
        "outputId": "517f1246-0dd9-4b78-dd85-a386271eb770"
      },
      "execution_count": null,
      "outputs": [
        {
          "output_type": "stream",
          "name": "stdout",
          "text": [
            "SVM MAE: 269008.20355040825\n",
            "SVM MAPE: 0.6480637528413373\n"
          ]
        }
      ]
    },
    {
      "cell_type": "code",
      "source": [
        "from sklearn.metrics import r2_score\n",
        "svr_r2_score=r2_score(y_test_new, y_pred_svm)\n",
        "svr_r2_score"
      ],
      "metadata": {
        "colab": {
          "base_uri": "https://localhost:8080/"
        },
        "id": "wa6f4L2uB8_w",
        "outputId": "dd39c65d-25cd-4b47-ce69-b7752a760f77"
      },
      "execution_count": null,
      "outputs": [
        {
          "output_type": "execute_result",
          "data": {
            "text/plain": [
              "-0.06225008350946082"
            ]
          },
          "metadata": {},
          "execution_count": 31
        }
      ]
    },
    {
      "cell_type": "code",
      "source": [
        "!pip install catboost # install the catboost package\n"
      ],
      "metadata": {
        "colab": {
          "base_uri": "https://localhost:8080/"
        },
        "id": "PwmAUumt_GyQ",
        "outputId": "d2f50700-8327-4480-eba9-2a0fb4668a75"
      },
      "execution_count": null,
      "outputs": [
        {
          "output_type": "stream",
          "name": "stdout",
          "text": [
            "Collecting catboost\n",
            "  Downloading catboost-1.2.7-cp310-cp310-manylinux2014_x86_64.whl.metadata (1.2 kB)\n",
            "Requirement already satisfied: graphviz in /usr/local/lib/python3.10/dist-packages (from catboost) (0.20.3)\n",
            "Requirement already satisfied: matplotlib in /usr/local/lib/python3.10/dist-packages (from catboost) (3.8.0)\n",
            "Requirement already satisfied: numpy<2.0,>=1.16.0 in /usr/local/lib/python3.10/dist-packages (from catboost) (1.26.4)\n",
            "Requirement already satisfied: pandas>=0.24 in /usr/local/lib/python3.10/dist-packages (from catboost) (2.2.2)\n",
            "Requirement already satisfied: scipy in /usr/local/lib/python3.10/dist-packages (from catboost) (1.13.1)\n",
            "Requirement already satisfied: plotly in /usr/local/lib/python3.10/dist-packages (from catboost) (5.24.1)\n",
            "Requirement already satisfied: six in /usr/local/lib/python3.10/dist-packages (from catboost) (1.17.0)\n",
            "Requirement already satisfied: python-dateutil>=2.8.2 in /usr/local/lib/python3.10/dist-packages (from pandas>=0.24->catboost) (2.8.2)\n",
            "Requirement already satisfied: pytz>=2020.1 in /usr/local/lib/python3.10/dist-packages (from pandas>=0.24->catboost) (2024.2)\n",
            "Requirement already satisfied: tzdata>=2022.7 in /usr/local/lib/python3.10/dist-packages (from pandas>=0.24->catboost) (2024.2)\n",
            "Requirement already satisfied: contourpy>=1.0.1 in /usr/local/lib/python3.10/dist-packages (from matplotlib->catboost) (1.3.1)\n",
            "Requirement already satisfied: cycler>=0.10 in /usr/local/lib/python3.10/dist-packages (from matplotlib->catboost) (0.12.1)\n",
            "Requirement already satisfied: fonttools>=4.22.0 in /usr/local/lib/python3.10/dist-packages (from matplotlib->catboost) (4.55.3)\n",
            "Requirement already satisfied: kiwisolver>=1.0.1 in /usr/local/lib/python3.10/dist-packages (from matplotlib->catboost) (1.4.7)\n",
            "Requirement already satisfied: packaging>=20.0 in /usr/local/lib/python3.10/dist-packages (from matplotlib->catboost) (24.2)\n",
            "Requirement already satisfied: pillow>=6.2.0 in /usr/local/lib/python3.10/dist-packages (from matplotlib->catboost) (11.0.0)\n",
            "Requirement already satisfied: pyparsing>=2.3.1 in /usr/local/lib/python3.10/dist-packages (from matplotlib->catboost) (3.2.0)\n",
            "Requirement already satisfied: tenacity>=6.2.0 in /usr/local/lib/python3.10/dist-packages (from plotly->catboost) (9.0.0)\n",
            "Downloading catboost-1.2.7-cp310-cp310-manylinux2014_x86_64.whl (98.7 MB)\n",
            "\u001b[2K   \u001b[90m━━━━━━━━━━━━━━━━━━━━━━━━━━━━━━━━━━━━━━━━\u001b[0m \u001b[32m98.7/98.7 MB\u001b[0m \u001b[31m8.1 MB/s\u001b[0m eta \u001b[36m0:00:00\u001b[0m\n",
            "\u001b[?25hInstalling collected packages: catboost\n",
            "Successfully installed catboost-1.2.7\n"
          ]
        }
      ]
    },
    {
      "cell_type": "code",
      "source": [
        "# This code is contributed by @amartajisce\n",
        "from catboost import CatBoostRegressor\n",
        "from sklearn.metrics import r2_score\n",
        "\n",
        "cb_model = CatBoostRegressor()\n",
        "cb_model.fit(X_train_new, y_train_new)\n",
        "\n",
        "# cb_r2_score=r2_score(Y_valid, preds)\n",
        "# cb_r2_score\n"
      ],
      "metadata": {
        "colab": {
          "base_uri": "https://localhost:8080/"
        },
        "id": "8OtP8h0v-M-G",
        "outputId": "a8e17f1d-8c97-4ced-8766-b0fa563cc048"
      },
      "execution_count": null,
      "outputs": [
        {
          "output_type": "stream",
          "name": "stdout",
          "text": [
            "Learning rate set to 0.084405\n",
            "0:\tlearn: 712691.8710286\ttotal: 112ms\tremaining: 1m 51s\n",
            "1:\tlearn: 684353.4873704\ttotal: 196ms\tremaining: 1m 38s\n",
            "2:\tlearn: 661874.4239342\ttotal: 242ms\tremaining: 1m 20s\n",
            "3:\tlearn: 637508.6154636\ttotal: 276ms\tremaining: 1m 8s\n",
            "4:\tlearn: 617205.9635986\ttotal: 304ms\tremaining: 1m\n",
            "5:\tlearn: 597225.3231648\ttotal: 338ms\tremaining: 56s\n",
            "6:\tlearn: 577889.4901353\ttotal: 376ms\tremaining: 53.3s\n",
            "7:\tlearn: 560429.9250680\ttotal: 412ms\tremaining: 51.1s\n",
            "8:\tlearn: 545182.4916610\ttotal: 441ms\tremaining: 48.6s\n",
            "9:\tlearn: 531377.9644567\ttotal: 483ms\tremaining: 47.8s\n",
            "10:\tlearn: 519031.8813708\ttotal: 523ms\tremaining: 47s\n",
            "11:\tlearn: 507127.6092887\ttotal: 552ms\tremaining: 45.4s\n",
            "12:\tlearn: 495504.2623877\ttotal: 583ms\tremaining: 44.3s\n",
            "13:\tlearn: 483750.6858238\ttotal: 620ms\tremaining: 43.7s\n",
            "14:\tlearn: 473584.6245820\ttotal: 656ms\tremaining: 43.1s\n",
            "15:\tlearn: 464173.3597262\ttotal: 684ms\tremaining: 42.1s\n",
            "16:\tlearn: 454387.5220945\ttotal: 706ms\tremaining: 40.8s\n",
            "17:\tlearn: 447082.9985979\ttotal: 736ms\tremaining: 40.1s\n",
            "18:\tlearn: 441281.1755208\ttotal: 768ms\tremaining: 39.7s\n",
            "19:\tlearn: 436137.7897538\ttotal: 810ms\tremaining: 39.7s\n",
            "20:\tlearn: 430263.5540443\ttotal: 843ms\tremaining: 39.3s\n",
            "21:\tlearn: 419082.2441823\ttotal: 880ms\tremaining: 39.1s\n",
            "22:\tlearn: 413624.0499058\ttotal: 911ms\tremaining: 38.7s\n",
            "23:\tlearn: 406418.1153959\ttotal: 940ms\tremaining: 38.2s\n",
            "24:\tlearn: 400213.0749798\ttotal: 978ms\tremaining: 38.1s\n",
            "25:\tlearn: 394132.3853545\ttotal: 1.01s\tremaining: 37.8s\n",
            "26:\tlearn: 391095.5815975\ttotal: 1.05s\tremaining: 37.9s\n",
            "27:\tlearn: 385844.3286304\ttotal: 1.08s\tremaining: 37.5s\n",
            "28:\tlearn: 382461.5296951\ttotal: 1.1s\tremaining: 37s\n",
            "29:\tlearn: 380177.8899732\ttotal: 1.12s\tremaining: 36.2s\n",
            "30:\tlearn: 378190.4270885\ttotal: 1.14s\tremaining: 35.7s\n",
            "31:\tlearn: 376243.7098992\ttotal: 1.19s\tremaining: 35.9s\n",
            "32:\tlearn: 374623.6528112\ttotal: 1.21s\tremaining: 35.4s\n",
            "33:\tlearn: 371191.9291920\ttotal: 1.24s\tremaining: 35.3s\n",
            "34:\tlearn: 369719.2142364\ttotal: 1.28s\tremaining: 35.3s\n",
            "35:\tlearn: 365429.1079362\ttotal: 1.32s\tremaining: 35.4s\n",
            "36:\tlearn: 363723.5334285\ttotal: 1.35s\tremaining: 35s\n",
            "37:\tlearn: 362507.8268004\ttotal: 1.36s\tremaining: 34.5s\n",
            "38:\tlearn: 360143.5623185\ttotal: 1.39s\tremaining: 34.3s\n",
            "39:\tlearn: 356923.3778786\ttotal: 1.42s\tremaining: 34s\n",
            "40:\tlearn: 356172.7649568\ttotal: 1.44s\tremaining: 33.6s\n",
            "41:\tlearn: 353318.9628168\ttotal: 1.45s\tremaining: 33.1s\n",
            "42:\tlearn: 352414.6919723\ttotal: 1.47s\tremaining: 32.7s\n",
            "43:\tlearn: 351741.2496198\ttotal: 1.51s\tremaining: 32.7s\n",
            "44:\tlearn: 350215.9693446\ttotal: 1.53s\tremaining: 32.5s\n",
            "45:\tlearn: 349692.4524673\ttotal: 1.55s\tremaining: 32.1s\n",
            "46:\tlearn: 345928.7056015\ttotal: 1.56s\tremaining: 31.7s\n",
            "47:\tlearn: 342273.3643669\ttotal: 1.58s\tremaining: 31.4s\n",
            "48:\tlearn: 341465.9115834\ttotal: 1.63s\tremaining: 31.7s\n",
            "49:\tlearn: 340922.6326840\ttotal: 1.71s\tremaining: 32.6s\n",
            "50:\tlearn: 339768.3467451\ttotal: 1.77s\tremaining: 32.9s\n",
            "51:\tlearn: 338875.6845302\ttotal: 1.79s\tremaining: 32.7s\n",
            "52:\tlearn: 338092.3816187\ttotal: 1.81s\tremaining: 32.3s\n",
            "53:\tlearn: 337561.9098450\ttotal: 1.83s\tremaining: 32s\n",
            "54:\tlearn: 334208.3663207\ttotal: 1.84s\tremaining: 31.7s\n",
            "55:\tlearn: 331925.9382000\ttotal: 1.86s\tremaining: 31.3s\n",
            "56:\tlearn: 331177.7155804\ttotal: 1.87s\tremaining: 31s\n",
            "57:\tlearn: 328448.8953463\ttotal: 1.9s\tremaining: 30.9s\n",
            "58:\tlearn: 327547.4828404\ttotal: 1.93s\tremaining: 30.8s\n",
            "59:\tlearn: 326957.0516323\ttotal: 1.97s\tremaining: 30.8s\n",
            "60:\tlearn: 323919.2318225\ttotal: 2s\tremaining: 30.7s\n",
            "61:\tlearn: 323257.6126821\ttotal: 2.03s\tremaining: 30.7s\n",
            "62:\tlearn: 320303.2780787\ttotal: 2.06s\tremaining: 30.6s\n",
            "63:\tlearn: 319829.2776160\ttotal: 2.09s\tremaining: 30.6s\n",
            "64:\tlearn: 318961.3857961\ttotal: 2.13s\tremaining: 30.6s\n",
            "65:\tlearn: 316336.8916511\ttotal: 2.17s\tremaining: 30.7s\n",
            "66:\tlearn: 315984.2951749\ttotal: 2.19s\tremaining: 30.6s\n",
            "67:\tlearn: 312539.9122311\ttotal: 2.23s\tremaining: 30.5s\n",
            "68:\tlearn: 309758.0711590\ttotal: 2.26s\tremaining: 30.5s\n",
            "69:\tlearn: 309036.7635964\ttotal: 2.29s\tremaining: 30.4s\n",
            "70:\tlearn: 308462.7766402\ttotal: 2.32s\tremaining: 30.4s\n",
            "71:\tlearn: 305756.7092443\ttotal: 2.35s\tremaining: 30.3s\n",
            "72:\tlearn: 305007.7493218\ttotal: 2.39s\tremaining: 30.3s\n",
            "73:\tlearn: 302455.9154459\ttotal: 2.42s\tremaining: 30.2s\n",
            "74:\tlearn: 299881.0383190\ttotal: 2.45s\tremaining: 30.2s\n",
            "75:\tlearn: 295824.5846088\ttotal: 2.5s\tremaining: 30.4s\n",
            "76:\tlearn: 289543.9786290\ttotal: 2.55s\tremaining: 30.5s\n",
            "77:\tlearn: 287323.2388481\ttotal: 2.61s\tremaining: 30.8s\n",
            "78:\tlearn: 281462.4832657\ttotal: 2.65s\tremaining: 30.9s\n",
            "79:\tlearn: 279142.0309933\ttotal: 2.69s\tremaining: 31s\n",
            "80:\tlearn: 278721.3363373\ttotal: 2.74s\tremaining: 31.1s\n",
            "81:\tlearn: 276648.8298679\ttotal: 2.77s\tremaining: 31s\n",
            "82:\tlearn: 274697.3627601\ttotal: 2.8s\tremaining: 30.9s\n",
            "83:\tlearn: 274174.4445044\ttotal: 2.83s\tremaining: 30.8s\n",
            "84:\tlearn: 273743.2518895\ttotal: 2.85s\tremaining: 30.7s\n",
            "85:\tlearn: 271753.7977847\ttotal: 2.87s\tremaining: 30.5s\n",
            "86:\tlearn: 268842.1739624\ttotal: 2.88s\tremaining: 30.2s\n",
            "87:\tlearn: 268396.1406447\ttotal: 2.93s\tremaining: 30.3s\n",
            "88:\tlearn: 266521.1980994\ttotal: 2.96s\tremaining: 30.3s\n",
            "89:\tlearn: 265995.8676024\ttotal: 2.98s\tremaining: 30.2s\n",
            "90:\tlearn: 265207.3021640\ttotal: 3.03s\tremaining: 30.3s\n",
            "91:\tlearn: 264235.3604961\ttotal: 3.05s\tremaining: 30.1s\n",
            "92:\tlearn: 260299.7606260\ttotal: 3.07s\tremaining: 30s\n",
            "93:\tlearn: 258691.5195907\ttotal: 3.12s\tremaining: 30.1s\n",
            "94:\tlearn: 257831.1126691\ttotal: 3.14s\tremaining: 29.9s\n",
            "95:\tlearn: 257391.2181439\ttotal: 3.16s\tremaining: 29.8s\n",
            "96:\tlearn: 256711.8630992\ttotal: 3.19s\tremaining: 29.7s\n",
            "97:\tlearn: 256403.7153942\ttotal: 3.24s\tremaining: 29.8s\n",
            "98:\tlearn: 254592.1095073\ttotal: 3.27s\tremaining: 29.8s\n",
            "99:\tlearn: 253738.9328144\ttotal: 3.31s\tremaining: 29.8s\n",
            "100:\tlearn: 253643.3299594\ttotal: 3.34s\tremaining: 29.8s\n",
            "101:\tlearn: 252158.0180541\ttotal: 3.38s\tremaining: 29.8s\n",
            "102:\tlearn: 251780.6117677\ttotal: 3.42s\tremaining: 29.8s\n",
            "103:\tlearn: 250648.3108118\ttotal: 3.44s\tremaining: 29.6s\n",
            "104:\tlearn: 250283.3175467\ttotal: 3.49s\tremaining: 29.8s\n",
            "105:\tlearn: 250052.3492037\ttotal: 3.52s\tremaining: 29.7s\n",
            "106:\tlearn: 249654.1409892\ttotal: 3.54s\tremaining: 29.5s\n",
            "107:\tlearn: 248235.9504972\ttotal: 3.56s\tremaining: 29.4s\n",
            "108:\tlearn: 246724.6228196\ttotal: 3.6s\tremaining: 29.4s\n",
            "109:\tlearn: 246422.6906281\ttotal: 3.64s\tremaining: 29.5s\n",
            "110:\tlearn: 245651.0445172\ttotal: 3.66s\tremaining: 29.3s\n",
            "111:\tlearn: 244053.1462866\ttotal: 3.68s\tremaining: 29.2s\n",
            "112:\tlearn: 242767.9579309\ttotal: 3.72s\tremaining: 29.2s\n",
            "113:\tlearn: 242611.9304953\ttotal: 3.76s\tremaining: 29.2s\n",
            "114:\tlearn: 242289.5357642\ttotal: 3.77s\tremaining: 29s\n",
            "115:\tlearn: 241386.0295316\ttotal: 3.81s\tremaining: 29s\n",
            "116:\tlearn: 240964.1490266\ttotal: 3.85s\tremaining: 29s\n",
            "117:\tlearn: 239661.1020455\ttotal: 3.87s\tremaining: 28.9s\n",
            "118:\tlearn: 239430.1590628\ttotal: 3.89s\tremaining: 28.8s\n",
            "119:\tlearn: 239131.8859406\ttotal: 3.93s\tremaining: 28.8s\n",
            "120:\tlearn: 238982.1424024\ttotal: 3.94s\tremaining: 28.6s\n",
            "121:\tlearn: 237282.5201421\ttotal: 3.96s\tremaining: 28.5s\n",
            "122:\tlearn: 233122.9766014\ttotal: 3.98s\tremaining: 28.4s\n",
            "123:\tlearn: 232958.4964829\ttotal: 3.99s\tremaining: 28.2s\n",
            "124:\tlearn: 232653.4895707\ttotal: 4.01s\tremaining: 28.1s\n",
            "125:\tlearn: 230903.6596456\ttotal: 4.04s\tremaining: 28s\n",
            "126:\tlearn: 230447.4623548\ttotal: 4.07s\tremaining: 28s\n",
            "127:\tlearn: 230132.0154695\ttotal: 4.11s\tremaining: 28s\n",
            "128:\tlearn: 229764.4635354\ttotal: 4.13s\tremaining: 27.9s\n",
            "129:\tlearn: 228584.5441674\ttotal: 4.16s\tremaining: 27.8s\n",
            "130:\tlearn: 228339.0390868\ttotal: 4.19s\tremaining: 27.8s\n",
            "131:\tlearn: 227927.8644332\ttotal: 4.22s\tremaining: 27.7s\n",
            "132:\tlearn: 226939.4678481\ttotal: 4.29s\tremaining: 28s\n",
            "133:\tlearn: 225948.9721767\ttotal: 4.37s\tremaining: 28.2s\n",
            "134:\tlearn: 225011.6351067\ttotal: 4.42s\tremaining: 28.3s\n",
            "135:\tlearn: 224817.9369150\ttotal: 4.45s\tremaining: 28.3s\n",
            "136:\tlearn: 221239.6204117\ttotal: 4.54s\tremaining: 28.6s\n",
            "137:\tlearn: 221022.0192100\ttotal: 4.62s\tremaining: 28.8s\n",
            "138:\tlearn: 220709.8163137\ttotal: 4.68s\tremaining: 29s\n",
            "139:\tlearn: 220197.8484933\ttotal: 4.75s\tremaining: 29.2s\n",
            "140:\tlearn: 219347.0510390\ttotal: 4.82s\tremaining: 29.4s\n",
            "141:\tlearn: 219307.8688656\ttotal: 4.85s\tremaining: 29.3s\n",
            "142:\tlearn: 218509.9998552\ttotal: 4.87s\tremaining: 29.2s\n",
            "143:\tlearn: 218104.6820925\ttotal: 4.96s\tremaining: 29.5s\n",
            "144:\tlearn: 217902.8080060\ttotal: 5.04s\tremaining: 29.7s\n",
            "145:\tlearn: 217528.0675914\ttotal: 5.07s\tremaining: 29.7s\n",
            "146:\tlearn: 217274.9321406\ttotal: 5.12s\tremaining: 29.7s\n",
            "147:\tlearn: 214901.2843100\ttotal: 5.16s\tremaining: 29.7s\n",
            "148:\tlearn: 214617.6380956\ttotal: 5.24s\tremaining: 29.9s\n",
            "149:\tlearn: 214384.0357648\ttotal: 5.31s\tremaining: 30.1s\n",
            "150:\tlearn: 214070.5453558\ttotal: 5.38s\tremaining: 30.3s\n",
            "151:\tlearn: 213768.0280719\ttotal: 5.46s\tremaining: 30.5s\n",
            "152:\tlearn: 213024.7750816\ttotal: 5.54s\tremaining: 30.7s\n",
            "153:\tlearn: 212252.5029347\ttotal: 5.61s\tremaining: 30.8s\n",
            "154:\tlearn: 211529.8496034\ttotal: 5.66s\tremaining: 30.9s\n",
            "155:\tlearn: 211013.0722141\ttotal: 5.7s\tremaining: 30.8s\n",
            "156:\tlearn: 209599.3448220\ttotal: 5.73s\tremaining: 30.8s\n",
            "157:\tlearn: 209544.6624176\ttotal: 5.77s\tremaining: 30.8s\n",
            "158:\tlearn: 209305.4664049\ttotal: 5.8s\tremaining: 30.7s\n",
            "159:\tlearn: 209296.3044708\ttotal: 5.86s\tremaining: 30.8s\n",
            "160:\tlearn: 209074.0174105\ttotal: 5.91s\tremaining: 30.8s\n",
            "161:\tlearn: 209066.0560014\ttotal: 5.97s\tremaining: 30.9s\n",
            "162:\tlearn: 208429.7189019\ttotal: 6.03s\tremaining: 31s\n",
            "163:\tlearn: 207962.6321041\ttotal: 6.12s\tremaining: 31.2s\n",
            "164:\tlearn: 204939.9308456\ttotal: 6.19s\tremaining: 31.3s\n",
            "165:\tlearn: 204754.2242397\ttotal: 6.24s\tremaining: 31.3s\n",
            "166:\tlearn: 204487.8080554\ttotal: 6.33s\tremaining: 31.6s\n",
            "167:\tlearn: 204353.4155247\ttotal: 6.4s\tremaining: 31.7s\n",
            "168:\tlearn: 203795.9196545\ttotal: 6.44s\tremaining: 31.7s\n",
            "169:\tlearn: 203587.3533292\ttotal: 6.51s\tremaining: 31.8s\n",
            "170:\tlearn: 203463.6803890\ttotal: 6.57s\tremaining: 31.8s\n",
            "171:\tlearn: 203016.6634857\ttotal: 6.64s\tremaining: 31.9s\n",
            "172:\tlearn: 202462.3622852\ttotal: 6.69s\tremaining: 32s\n",
            "173:\tlearn: 202221.6733167\ttotal: 6.74s\tremaining: 32s\n",
            "174:\tlearn: 202031.5600966\ttotal: 6.79s\tremaining: 32s\n",
            "175:\tlearn: 201743.6573898\ttotal: 6.87s\tremaining: 32.2s\n",
            "176:\tlearn: 201158.0930136\ttotal: 6.93s\tremaining: 32.2s\n",
            "177:\tlearn: 200623.9920740\ttotal: 6.97s\tremaining: 32.2s\n",
            "178:\tlearn: 200389.9547522\ttotal: 7.02s\tremaining: 32.2s\n",
            "179:\tlearn: 200178.3258984\ttotal: 7.13s\tremaining: 32.5s\n",
            "180:\tlearn: 199999.1582103\ttotal: 7.18s\tremaining: 32.5s\n",
            "181:\tlearn: 199698.8196499\ttotal: 7.23s\tremaining: 32.5s\n",
            "182:\tlearn: 198611.2424764\ttotal: 7.3s\tremaining: 32.6s\n",
            "183:\tlearn: 198046.5232263\ttotal: 7.37s\tremaining: 32.7s\n",
            "184:\tlearn: 197856.9270789\ttotal: 7.42s\tremaining: 32.7s\n",
            "185:\tlearn: 197348.3651111\ttotal: 7.48s\tremaining: 32.7s\n",
            "186:\tlearn: 197143.6145680\ttotal: 7.55s\tremaining: 32.8s\n",
            "187:\tlearn: 196927.7291365\ttotal: 7.59s\tremaining: 32.8s\n",
            "188:\tlearn: 196471.5168742\ttotal: 7.63s\tremaining: 32.8s\n",
            "189:\tlearn: 196259.8591313\ttotal: 7.69s\tremaining: 32.8s\n",
            "190:\tlearn: 195728.5129091\ttotal: 7.75s\tremaining: 32.8s\n",
            "191:\tlearn: 195539.5616211\ttotal: 7.83s\tremaining: 32.9s\n",
            "192:\tlearn: 195126.1862954\ttotal: 7.86s\tremaining: 32.9s\n",
            "193:\tlearn: 194932.5546825\ttotal: 7.92s\tremaining: 32.9s\n",
            "194:\tlearn: 194804.3746340\ttotal: 7.96s\tremaining: 32.8s\n",
            "195:\tlearn: 194459.8983089\ttotal: 8.01s\tremaining: 32.9s\n",
            "196:\tlearn: 194065.0392294\ttotal: 8.07s\tremaining: 32.9s\n",
            "197:\tlearn: 193930.6129665\ttotal: 8.11s\tremaining: 32.8s\n",
            "198:\tlearn: 193404.2365916\ttotal: 8.14s\tremaining: 32.8s\n",
            "199:\tlearn: 193060.4068138\ttotal: 8.21s\tremaining: 32.8s\n",
            "200:\tlearn: 192568.5233326\ttotal: 8.28s\tremaining: 32.9s\n",
            "201:\tlearn: 192385.1253343\ttotal: 8.31s\tremaining: 32.8s\n",
            "202:\tlearn: 191678.3295673\ttotal: 8.36s\tremaining: 32.8s\n",
            "203:\tlearn: 191384.7670356\ttotal: 8.4s\tremaining: 32.8s\n",
            "204:\tlearn: 191167.6193974\ttotal: 8.47s\tremaining: 32.9s\n",
            "205:\tlearn: 190826.7045679\ttotal: 8.54s\tremaining: 32.9s\n",
            "206:\tlearn: 190673.1877645\ttotal: 8.61s\tremaining: 33s\n",
            "207:\tlearn: 190306.9027750\ttotal: 8.68s\tremaining: 33s\n",
            "208:\tlearn: 188361.4927128\ttotal: 8.78s\tremaining: 33.2s\n",
            "209:\tlearn: 188068.2224712\ttotal: 8.84s\tremaining: 33.3s\n",
            "210:\tlearn: 187937.5822428\ttotal: 8.91s\tremaining: 33.3s\n",
            "211:\tlearn: 187718.2399337\ttotal: 9s\tremaining: 33.5s\n",
            "212:\tlearn: 187532.3398435\ttotal: 9.08s\tremaining: 33.5s\n",
            "213:\tlearn: 186910.4451854\ttotal: 9.15s\tremaining: 33.6s\n",
            "214:\tlearn: 186792.0107800\ttotal: 9.2s\tremaining: 33.6s\n",
            "215:\tlearn: 186178.1194723\ttotal: 9.26s\tremaining: 33.6s\n",
            "216:\tlearn: 186007.9959957\ttotal: 9.3s\tremaining: 33.6s\n",
            "217:\tlearn: 185812.0831710\ttotal: 9.36s\tremaining: 33.6s\n",
            "218:\tlearn: 185627.8735567\ttotal: 9.42s\tremaining: 33.6s\n",
            "219:\tlearn: 185419.3697971\ttotal: 9.5s\tremaining: 33.7s\n",
            "220:\tlearn: 185281.9223651\ttotal: 9.57s\tremaining: 33.7s\n",
            "221:\tlearn: 183935.2331794\ttotal: 9.61s\tremaining: 33.7s\n",
            "222:\tlearn: 183733.6702816\ttotal: 9.65s\tremaining: 33.6s\n",
            "223:\tlearn: 183514.9646969\ttotal: 9.74s\tremaining: 33.7s\n",
            "224:\tlearn: 183347.6527968\ttotal: 9.8s\tremaining: 33.8s\n",
            "225:\tlearn: 183227.2084369\ttotal: 9.84s\tremaining: 33.7s\n",
            "226:\tlearn: 182879.5155602\ttotal: 9.88s\tremaining: 33.7s\n",
            "227:\tlearn: 182382.6692094\ttotal: 9.92s\tremaining: 33.6s\n",
            "228:\tlearn: 182276.6871958\ttotal: 9.95s\tremaining: 33.5s\n",
            "229:\tlearn: 182080.9693347\ttotal: 10s\tremaining: 33.5s\n",
            "230:\tlearn: 181854.4840562\ttotal: 10.1s\tremaining: 33.5s\n",
            "231:\tlearn: 181577.6971549\ttotal: 10.1s\tremaining: 33.6s\n",
            "232:\tlearn: 181115.0680314\ttotal: 10.2s\tremaining: 33.5s\n",
            "233:\tlearn: 179996.4455787\ttotal: 10.2s\tremaining: 33.4s\n",
            "234:\tlearn: 179770.5190793\ttotal: 10.2s\tremaining: 33.4s\n",
            "235:\tlearn: 179472.6183733\ttotal: 10.3s\tremaining: 33.3s\n",
            "236:\tlearn: 179370.5173211\ttotal: 10.3s\tremaining: 33.2s\n",
            "237:\tlearn: 179116.4227005\ttotal: 10.3s\tremaining: 33.1s\n",
            "238:\tlearn: 178987.8603291\ttotal: 10.4s\tremaining: 33s\n",
            "239:\tlearn: 177860.5356679\ttotal: 10.4s\tremaining: 32.9s\n",
            "240:\tlearn: 177652.0034844\ttotal: 10.4s\tremaining: 32.9s\n",
            "241:\tlearn: 176219.1198667\ttotal: 10.5s\tremaining: 32.8s\n",
            "242:\tlearn: 175969.2043500\ttotal: 10.5s\tremaining: 32.7s\n",
            "243:\tlearn: 175869.3294934\ttotal: 10.5s\tremaining: 32.6s\n",
            "244:\tlearn: 175673.6594589\ttotal: 10.6s\tremaining: 32.6s\n",
            "245:\tlearn: 175492.6678786\ttotal: 10.6s\tremaining: 32.5s\n",
            "246:\tlearn: 175290.0857001\ttotal: 10.6s\tremaining: 32.4s\n",
            "247:\tlearn: 175063.9475936\ttotal: 10.6s\tremaining: 32.3s\n",
            "248:\tlearn: 174883.8821195\ttotal: 10.7s\tremaining: 32.2s\n",
            "249:\tlearn: 174728.4837847\ttotal: 10.7s\tremaining: 32.1s\n",
            "250:\tlearn: 174516.0608759\ttotal: 10.8s\tremaining: 32.1s\n",
            "251:\tlearn: 174388.2759041\ttotal: 10.8s\tremaining: 32.1s\n",
            "252:\tlearn: 174224.8574500\ttotal: 10.9s\tremaining: 32.1s\n",
            "253:\tlearn: 174117.1850415\ttotal: 10.9s\tremaining: 31.9s\n",
            "254:\tlearn: 173938.8531055\ttotal: 10.9s\tremaining: 31.8s\n",
            "255:\tlearn: 173648.7914933\ttotal: 10.9s\tremaining: 31.8s\n",
            "256:\tlearn: 173480.0262310\ttotal: 11s\tremaining: 31.8s\n",
            "257:\tlearn: 173337.7114206\ttotal: 11s\tremaining: 31.7s\n",
            "258:\tlearn: 173251.1428399\ttotal: 11s\tremaining: 31.6s\n",
            "259:\tlearn: 171931.5001349\ttotal: 11.1s\tremaining: 31.5s\n",
            "260:\tlearn: 171834.6924294\ttotal: 11.1s\tremaining: 31.4s\n",
            "261:\tlearn: 171691.5450680\ttotal: 11.1s\tremaining: 31.3s\n",
            "262:\tlearn: 171111.0212291\ttotal: 11.2s\tremaining: 31.3s\n",
            "263:\tlearn: 171009.9797677\ttotal: 11.2s\tremaining: 31.2s\n",
            "264:\tlearn: 170921.8237698\ttotal: 11.2s\tremaining: 31.2s\n",
            "265:\tlearn: 170008.3681860\ttotal: 11.3s\tremaining: 31.2s\n",
            "266:\tlearn: 169933.8130657\ttotal: 11.4s\tremaining: 31.2s\n",
            "267:\tlearn: 169771.7561815\ttotal: 11.4s\tremaining: 31.1s\n",
            "268:\tlearn: 169078.5032102\ttotal: 11.4s\tremaining: 31.1s\n",
            "269:\tlearn: 168843.1261364\ttotal: 11.4s\tremaining: 31s\n",
            "270:\tlearn: 167186.7697863\ttotal: 11.5s\tremaining: 30.8s\n",
            "271:\tlearn: 167036.7094008\ttotal: 11.5s\tremaining: 30.8s\n",
            "272:\tlearn: 166900.9922729\ttotal: 11.5s\tremaining: 30.7s\n",
            "273:\tlearn: 165700.1629305\ttotal: 11.6s\tremaining: 30.7s\n",
            "274:\tlearn: 165515.5250907\ttotal: 11.6s\tremaining: 30.6s\n",
            "275:\tlearn: 165327.4481448\ttotal: 11.6s\tremaining: 30.5s\n",
            "276:\tlearn: 165142.2432534\ttotal: 11.7s\tremaining: 30.4s\n",
            "277:\tlearn: 164999.9541361\ttotal: 11.7s\tremaining: 30.3s\n",
            "278:\tlearn: 164876.9409464\ttotal: 11.7s\tremaining: 30.3s\n",
            "279:\tlearn: 164675.4332492\ttotal: 11.7s\tremaining: 30.2s\n",
            "280:\tlearn: 164540.4716767\ttotal: 11.8s\tremaining: 30.1s\n",
            "281:\tlearn: 163403.7827842\ttotal: 11.8s\tremaining: 30.1s\n",
            "282:\tlearn: 163247.5272011\ttotal: 11.9s\tremaining: 30.1s\n",
            "283:\tlearn: 163163.4230597\ttotal: 11.9s\tremaining: 30s\n",
            "284:\tlearn: 163030.4650802\ttotal: 11.9s\tremaining: 29.9s\n",
            "285:\tlearn: 162908.8705517\ttotal: 12s\tremaining: 29.9s\n",
            "286:\tlearn: 162725.8163660\ttotal: 12s\tremaining: 29.9s\n",
            "287:\tlearn: 162541.3908055\ttotal: 12.1s\tremaining: 29.9s\n",
            "288:\tlearn: 162405.7717004\ttotal: 12.1s\tremaining: 29.9s\n",
            "289:\tlearn: 162281.3828409\ttotal: 12.2s\tremaining: 29.8s\n",
            "290:\tlearn: 162104.2726914\ttotal: 12.2s\tremaining: 29.7s\n",
            "291:\tlearn: 161957.7054709\ttotal: 12.3s\tremaining: 29.7s\n",
            "292:\tlearn: 161802.3298551\ttotal: 12.3s\tremaining: 29.7s\n",
            "293:\tlearn: 161654.2096007\ttotal: 12.4s\tremaining: 29.7s\n",
            "294:\tlearn: 161495.2221649\ttotal: 12.4s\tremaining: 29.6s\n",
            "295:\tlearn: 161370.9563937\ttotal: 12.4s\tremaining: 29.6s\n",
            "296:\tlearn: 161215.3328920\ttotal: 12.5s\tremaining: 29.5s\n",
            "297:\tlearn: 161115.9095711\ttotal: 12.5s\tremaining: 29.5s\n",
            "298:\tlearn: 160033.7637970\ttotal: 12.6s\tremaining: 29.5s\n",
            "299:\tlearn: 159738.2444089\ttotal: 12.6s\tremaining: 29.5s\n",
            "300:\tlearn: 159677.7459881\ttotal: 12.7s\tremaining: 29.4s\n",
            "301:\tlearn: 159524.6029155\ttotal: 12.7s\tremaining: 29.4s\n",
            "302:\tlearn: 158869.1221669\ttotal: 12.7s\tremaining: 29.3s\n",
            "303:\tlearn: 158774.4316631\ttotal: 12.8s\tremaining: 29.2s\n",
            "304:\tlearn: 158704.2527129\ttotal: 12.8s\tremaining: 29.1s\n",
            "305:\tlearn: 158549.2303663\ttotal: 12.8s\tremaining: 29.1s\n",
            "306:\tlearn: 158430.4995186\ttotal: 12.9s\tremaining: 29s\n",
            "307:\tlearn: 158318.0343510\ttotal: 12.9s\tremaining: 28.9s\n",
            "308:\tlearn: 158184.5213419\ttotal: 12.9s\tremaining: 28.8s\n",
            "309:\tlearn: 158058.2167800\ttotal: 12.9s\tremaining: 28.8s\n",
            "310:\tlearn: 157960.1425462\ttotal: 12.9s\tremaining: 28.7s\n",
            "311:\tlearn: 157921.4912271\ttotal: 13s\tremaining: 28.6s\n",
            "312:\tlearn: 157780.7043190\ttotal: 13s\tremaining: 28.5s\n",
            "313:\tlearn: 157641.4871085\ttotal: 13s\tremaining: 28.4s\n",
            "314:\tlearn: 157525.0081979\ttotal: 13s\tremaining: 28.3s\n",
            "315:\tlearn: 157402.7167742\ttotal: 13s\tremaining: 28.2s\n",
            "316:\tlearn: 157311.7943354\ttotal: 13s\tremaining: 28.1s\n",
            "317:\tlearn: 157193.9667980\ttotal: 13.1s\tremaining: 28.1s\n",
            "318:\tlearn: 156210.6316321\ttotal: 13.2s\tremaining: 28.1s\n",
            "319:\tlearn: 156059.2270943\ttotal: 13.2s\tremaining: 28.1s\n",
            "320:\tlearn: 155957.6244796\ttotal: 13.3s\tremaining: 28.1s\n",
            "321:\tlearn: 155812.1047475\ttotal: 13.3s\tremaining: 28s\n",
            "322:\tlearn: 155439.0812926\ttotal: 13.3s\tremaining: 27.9s\n",
            "323:\tlearn: 155381.8036077\ttotal: 13.3s\tremaining: 27.8s\n",
            "324:\tlearn: 155163.7923523\ttotal: 13.4s\tremaining: 27.8s\n",
            "325:\tlearn: 154342.0470334\ttotal: 13.4s\tremaining: 27.8s\n",
            "326:\tlearn: 154262.1822692\ttotal: 13.5s\tremaining: 27.7s\n",
            "327:\tlearn: 154180.3962347\ttotal: 13.5s\tremaining: 27.7s\n",
            "328:\tlearn: 153503.4889541\ttotal: 13.6s\tremaining: 27.7s\n",
            "329:\tlearn: 153357.7041951\ttotal: 13.6s\tremaining: 27.6s\n",
            "330:\tlearn: 153255.2421268\ttotal: 13.6s\tremaining: 27.5s\n",
            "331:\tlearn: 153071.7541130\ttotal: 13.6s\tremaining: 27.5s\n",
            "332:\tlearn: 152938.7087065\ttotal: 13.7s\tremaining: 27.4s\n",
            "333:\tlearn: 152878.4950711\ttotal: 13.7s\tremaining: 27.3s\n",
            "334:\tlearn: 152768.0734708\ttotal: 13.7s\tremaining: 27.3s\n",
            "335:\tlearn: 152540.7629993\ttotal: 13.8s\tremaining: 27.2s\n",
            "336:\tlearn: 152481.3077361\ttotal: 13.8s\tremaining: 27.2s\n",
            "337:\tlearn: 152368.6033594\ttotal: 13.9s\tremaining: 27.1s\n",
            "338:\tlearn: 152240.3132689\ttotal: 13.9s\tremaining: 27.2s\n",
            "339:\tlearn: 152144.2681003\ttotal: 14s\tremaining: 27.2s\n",
            "340:\tlearn: 152049.0397792\ttotal: 14.1s\tremaining: 27.2s\n",
            "341:\tlearn: 151674.8371923\ttotal: 14.1s\tremaining: 27.2s\n",
            "342:\tlearn: 151518.3932185\ttotal: 14.2s\tremaining: 27.1s\n",
            "343:\tlearn: 151399.7324513\ttotal: 14.2s\tremaining: 27s\n",
            "344:\tlearn: 151276.1782675\ttotal: 14.2s\tremaining: 27s\n",
            "345:\tlearn: 151134.0450320\ttotal: 14.2s\tremaining: 26.9s\n",
            "346:\tlearn: 151045.8946469\ttotal: 14.2s\tremaining: 26.8s\n",
            "347:\tlearn: 150897.6759344\ttotal: 14.3s\tremaining: 26.7s\n",
            "348:\tlearn: 150817.8200698\ttotal: 14.3s\tremaining: 26.7s\n",
            "349:\tlearn: 150672.8465042\ttotal: 14.4s\tremaining: 26.7s\n",
            "350:\tlearn: 150580.5235824\ttotal: 14.4s\tremaining: 26.6s\n",
            "351:\tlearn: 150460.3041886\ttotal: 14.4s\tremaining: 26.6s\n",
            "352:\tlearn: 150384.3604736\ttotal: 14.5s\tremaining: 26.5s\n",
            "353:\tlearn: 150220.6973454\ttotal: 14.5s\tremaining: 26.4s\n",
            "354:\tlearn: 150118.6526698\ttotal: 14.5s\tremaining: 26.4s\n",
            "355:\tlearn: 150031.1803846\ttotal: 14.6s\tremaining: 26.3s\n",
            "356:\tlearn: 149981.5331172\ttotal: 14.6s\tremaining: 26.3s\n",
            "357:\tlearn: 149818.1255080\ttotal: 14.6s\tremaining: 26.2s\n",
            "358:\tlearn: 149772.1845267\ttotal: 14.6s\tremaining: 26.1s\n",
            "359:\tlearn: 149697.0528974\ttotal: 14.6s\tremaining: 26s\n",
            "360:\tlearn: 149604.6819740\ttotal: 14.6s\tremaining: 25.9s\n",
            "361:\tlearn: 149462.5239265\ttotal: 14.7s\tremaining: 25.8s\n",
            "362:\tlearn: 148490.6725313\ttotal: 14.7s\tremaining: 25.8s\n",
            "363:\tlearn: 147594.1166011\ttotal: 14.7s\tremaining: 25.7s\n",
            "364:\tlearn: 147482.1241452\ttotal: 14.7s\tremaining: 25.6s\n",
            "365:\tlearn: 147330.7515842\ttotal: 14.7s\tremaining: 25.5s\n",
            "366:\tlearn: 147095.3457001\ttotal: 14.8s\tremaining: 25.5s\n",
            "367:\tlearn: 147010.0910166\ttotal: 14.8s\tremaining: 25.4s\n",
            "368:\tlearn: 146900.8859200\ttotal: 14.8s\tremaining: 25.4s\n",
            "369:\tlearn: 146768.7875042\ttotal: 14.9s\tremaining: 25.3s\n",
            "370:\tlearn: 146706.5121328\ttotal: 14.9s\tremaining: 25.2s\n",
            "371:\tlearn: 146589.4658626\ttotal: 14.9s\tremaining: 25.2s\n",
            "372:\tlearn: 146525.7890389\ttotal: 14.9s\tremaining: 25.1s\n",
            "373:\tlearn: 146433.2748817\ttotal: 15s\tremaining: 25.1s\n",
            "374:\tlearn: 146339.9454671\ttotal: 15s\tremaining: 25s\n",
            "375:\tlearn: 146273.7434988\ttotal: 15s\tremaining: 25s\n",
            "376:\tlearn: 146179.1638011\ttotal: 15.1s\tremaining: 24.9s\n",
            "377:\tlearn: 146066.1547701\ttotal: 15.1s\tremaining: 24.9s\n",
            "378:\tlearn: 145995.8271637\ttotal: 15.1s\tremaining: 24.8s\n",
            "379:\tlearn: 145643.4202071\ttotal: 15.2s\tremaining: 24.8s\n",
            "380:\tlearn: 145514.7564182\ttotal: 15.2s\tremaining: 24.7s\n",
            "381:\tlearn: 145403.2209287\ttotal: 15.2s\tremaining: 24.7s\n",
            "382:\tlearn: 145352.0755116\ttotal: 15.3s\tremaining: 24.6s\n",
            "383:\tlearn: 145274.1596036\ttotal: 15.3s\tremaining: 24.6s\n",
            "384:\tlearn: 145219.0759882\ttotal: 15.4s\tremaining: 24.6s\n",
            "385:\tlearn: 145164.8035510\ttotal: 15.4s\tremaining: 24.5s\n",
            "386:\tlearn: 145090.9430151\ttotal: 15.4s\tremaining: 24.4s\n",
            "387:\tlearn: 145000.4675850\ttotal: 15.5s\tremaining: 24.4s\n",
            "388:\tlearn: 144918.9959017\ttotal: 15.5s\tremaining: 24.3s\n",
            "389:\tlearn: 144087.5745960\ttotal: 15.5s\tremaining: 24.3s\n",
            "390:\tlearn: 143803.8320736\ttotal: 15.6s\tremaining: 24.3s\n",
            "391:\tlearn: 143696.7820975\ttotal: 15.6s\tremaining: 24.2s\n",
            "392:\tlearn: 143634.9658337\ttotal: 15.6s\tremaining: 24.2s\n",
            "393:\tlearn: 143512.3166448\ttotal: 15.7s\tremaining: 24.1s\n",
            "394:\tlearn: 143324.3431639\ttotal: 15.7s\tremaining: 24.1s\n",
            "395:\tlearn: 143250.2135731\ttotal: 15.7s\tremaining: 24s\n",
            "396:\tlearn: 143185.8428240\ttotal: 15.7s\tremaining: 23.9s\n",
            "397:\tlearn: 143115.5351338\ttotal: 15.8s\tremaining: 23.8s\n",
            "398:\tlearn: 143063.1728291\ttotal: 15.8s\tremaining: 23.8s\n",
            "399:\tlearn: 142987.4542728\ttotal: 15.8s\tremaining: 23.8s\n",
            "400:\tlearn: 142893.8498761\ttotal: 15.9s\tremaining: 23.8s\n",
            "401:\tlearn: 142101.5124294\ttotal: 15.9s\tremaining: 23.7s\n",
            "402:\tlearn: 142020.9225736\ttotal: 16s\tremaining: 23.7s\n",
            "403:\tlearn: 141952.8884713\ttotal: 16s\tremaining: 23.6s\n",
            "404:\tlearn: 141837.4369679\ttotal: 16.1s\tremaining: 23.6s\n",
            "405:\tlearn: 141791.5766291\ttotal: 16.1s\tremaining: 23.6s\n",
            "406:\tlearn: 141729.0557696\ttotal: 16.2s\tremaining: 23.5s\n",
            "407:\tlearn: 141682.2044678\ttotal: 16.2s\tremaining: 23.5s\n",
            "408:\tlearn: 141557.6250308\ttotal: 16.2s\tremaining: 23.5s\n",
            "409:\tlearn: 141501.4355227\ttotal: 16.3s\tremaining: 23.5s\n",
            "410:\tlearn: 141415.0734510\ttotal: 16.3s\tremaining: 23.4s\n",
            "411:\tlearn: 141303.8434704\ttotal: 16.4s\tremaining: 23.3s\n",
            "412:\tlearn: 141199.7603408\ttotal: 16.4s\tremaining: 23.3s\n",
            "413:\tlearn: 141167.2908162\ttotal: 16.4s\tremaining: 23.2s\n",
            "414:\tlearn: 141124.3820570\ttotal: 16.4s\tremaining: 23.1s\n",
            "415:\tlearn: 141036.8916953\ttotal: 16.4s\tremaining: 23s\n",
            "416:\tlearn: 140985.7247214\ttotal: 16.4s\tremaining: 23s\n",
            "417:\tlearn: 140915.6224860\ttotal: 16.4s\tremaining: 22.9s\n",
            "418:\tlearn: 140848.8296562\ttotal: 16.5s\tremaining: 22.8s\n",
            "419:\tlearn: 140796.0904011\ttotal: 16.5s\tremaining: 22.7s\n",
            "420:\tlearn: 140708.0528284\ttotal: 16.5s\tremaining: 22.7s\n",
            "421:\tlearn: 140584.1903813\ttotal: 16.5s\tremaining: 22.6s\n",
            "422:\tlearn: 140529.5585686\ttotal: 16.5s\tremaining: 22.5s\n",
            "423:\tlearn: 140221.6211113\ttotal: 16.5s\tremaining: 22.4s\n",
            "424:\tlearn: 140162.8072002\ttotal: 16.5s\tremaining: 22.4s\n",
            "425:\tlearn: 140046.2042537\ttotal: 16.5s\tremaining: 22.3s\n",
            "426:\tlearn: 139930.9876084\ttotal: 16.6s\tremaining: 22.2s\n",
            "427:\tlearn: 139773.6051804\ttotal: 16.6s\tremaining: 22.2s\n",
            "428:\tlearn: 139658.1012850\ttotal: 16.6s\tremaining: 22.1s\n",
            "429:\tlearn: 139576.8743988\ttotal: 16.6s\tremaining: 22s\n",
            "430:\tlearn: 139526.8622229\ttotal: 16.6s\tremaining: 21.9s\n",
            "431:\tlearn: 139460.3992637\ttotal: 16.6s\tremaining: 21.9s\n",
            "432:\tlearn: 139374.2951814\ttotal: 16.6s\tremaining: 21.8s\n",
            "433:\tlearn: 139315.4743361\ttotal: 16.7s\tremaining: 21.7s\n",
            "434:\tlearn: 139232.6792214\ttotal: 16.7s\tremaining: 21.7s\n",
            "435:\tlearn: 139126.4453204\ttotal: 16.7s\tremaining: 21.6s\n",
            "436:\tlearn: 139017.8720515\ttotal: 16.7s\tremaining: 21.5s\n",
            "437:\tlearn: 138938.3002457\ttotal: 16.7s\tremaining: 21.4s\n",
            "438:\tlearn: 138509.9116631\ttotal: 16.7s\tremaining: 21.4s\n",
            "439:\tlearn: 138444.3589374\ttotal: 16.7s\tremaining: 21.3s\n",
            "440:\tlearn: 137703.6646589\ttotal: 16.8s\tremaining: 21.2s\n",
            "441:\tlearn: 137644.4683111\ttotal: 16.8s\tremaining: 21.2s\n",
            "442:\tlearn: 137572.3744514\ttotal: 16.8s\tremaining: 21.1s\n",
            "443:\tlearn: 137533.9406724\ttotal: 16.8s\tremaining: 21s\n",
            "444:\tlearn: 137492.9886433\ttotal: 16.8s\tremaining: 21s\n",
            "445:\tlearn: 137447.9985850\ttotal: 16.8s\tremaining: 20.9s\n",
            "446:\tlearn: 137274.5663852\ttotal: 16.8s\tremaining: 20.8s\n",
            "447:\tlearn: 137220.7391807\ttotal: 16.9s\tremaining: 20.8s\n",
            "448:\tlearn: 137135.1235151\ttotal: 16.9s\tremaining: 20.7s\n",
            "449:\tlearn: 137039.7295348\ttotal: 16.9s\tremaining: 20.6s\n",
            "450:\tlearn: 136985.8404149\ttotal: 16.9s\tremaining: 20.6s\n",
            "451:\tlearn: 136276.5087137\ttotal: 16.9s\tremaining: 20.5s\n",
            "452:\tlearn: 136220.7633283\ttotal: 16.9s\tremaining: 20.4s\n",
            "453:\tlearn: 136097.7653715\ttotal: 16.9s\tremaining: 20.4s\n",
            "454:\tlearn: 135405.2132037\ttotal: 16.9s\tremaining: 20.3s\n",
            "455:\tlearn: 135334.8701287\ttotal: 17s\tremaining: 20.2s\n",
            "456:\tlearn: 135281.1192486\ttotal: 17s\tremaining: 20.2s\n",
            "457:\tlearn: 135237.4415908\ttotal: 17s\tremaining: 20.1s\n",
            "458:\tlearn: 135175.0593442\ttotal: 17s\tremaining: 20s\n",
            "459:\tlearn: 135142.9453449\ttotal: 17s\tremaining: 20s\n",
            "460:\tlearn: 135045.6117965\ttotal: 17s\tremaining: 19.9s\n",
            "461:\tlearn: 134980.5055112\ttotal: 17s\tremaining: 19.8s\n",
            "462:\tlearn: 134918.7345271\ttotal: 17s\tremaining: 19.8s\n",
            "463:\tlearn: 134645.6038049\ttotal: 17.1s\tremaining: 19.7s\n",
            "464:\tlearn: 134526.8937628\ttotal: 17.1s\tremaining: 19.6s\n",
            "465:\tlearn: 134370.1177383\ttotal: 17.1s\tremaining: 19.6s\n",
            "466:\tlearn: 134291.5681377\ttotal: 17.1s\tremaining: 19.5s\n",
            "467:\tlearn: 134158.9690194\ttotal: 17.1s\tremaining: 19.4s\n",
            "468:\tlearn: 134075.1701370\ttotal: 17.1s\tremaining: 19.4s\n",
            "469:\tlearn: 134039.7341170\ttotal: 17.1s\tremaining: 19.3s\n",
            "470:\tlearn: 133967.6416668\ttotal: 17.1s\tremaining: 19.3s\n",
            "471:\tlearn: 133929.3831898\ttotal: 17.2s\tremaining: 19.2s\n",
            "472:\tlearn: 133863.2907694\ttotal: 17.2s\tremaining: 19.1s\n",
            "473:\tlearn: 133778.2011025\ttotal: 17.2s\tremaining: 19.1s\n",
            "474:\tlearn: 133717.3697783\ttotal: 17.2s\tremaining: 19s\n",
            "475:\tlearn: 133655.4828295\ttotal: 17.2s\tremaining: 18.9s\n",
            "476:\tlearn: 133587.0214315\ttotal: 17.2s\tremaining: 18.9s\n",
            "477:\tlearn: 133526.6664058\ttotal: 17.2s\tremaining: 18.8s\n",
            "478:\tlearn: 133473.3388003\ttotal: 17.3s\tremaining: 18.8s\n",
            "479:\tlearn: 133405.9532066\ttotal: 17.3s\tremaining: 18.7s\n",
            "480:\tlearn: 133322.5126686\ttotal: 17.3s\tremaining: 18.6s\n",
            "481:\tlearn: 133260.3368038\ttotal: 17.3s\tremaining: 18.6s\n",
            "482:\tlearn: 133200.5958204\ttotal: 17.3s\tremaining: 18.5s\n",
            "483:\tlearn: 133087.9081388\ttotal: 17.3s\tremaining: 18.5s\n",
            "484:\tlearn: 133010.9275475\ttotal: 17.4s\tremaining: 18.4s\n",
            "485:\tlearn: 132975.7391826\ttotal: 17.4s\tremaining: 18.4s\n",
            "486:\tlearn: 132908.4457437\ttotal: 17.4s\tremaining: 18.3s\n",
            "487:\tlearn: 132875.5911481\ttotal: 17.4s\tremaining: 18.2s\n",
            "488:\tlearn: 132817.7232053\ttotal: 17.4s\tremaining: 18.2s\n",
            "489:\tlearn: 132168.9707300\ttotal: 17.4s\tremaining: 18.1s\n",
            "490:\tlearn: 132062.4271903\ttotal: 17.4s\tremaining: 18.1s\n",
            "491:\tlearn: 131980.8171085\ttotal: 17.4s\tremaining: 18s\n",
            "492:\tlearn: 131814.3747868\ttotal: 17.5s\tremaining: 18s\n",
            "493:\tlearn: 131765.4966936\ttotal: 17.5s\tremaining: 17.9s\n",
            "494:\tlearn: 131705.7783086\ttotal: 17.5s\tremaining: 17.8s\n",
            "495:\tlearn: 131650.4761801\ttotal: 17.5s\tremaining: 17.8s\n",
            "496:\tlearn: 131603.0795797\ttotal: 17.5s\tremaining: 17.7s\n",
            "497:\tlearn: 131543.0602663\ttotal: 17.5s\tremaining: 17.7s\n",
            "498:\tlearn: 131466.1560460\ttotal: 17.5s\tremaining: 17.6s\n",
            "499:\tlearn: 131439.7944345\ttotal: 17.6s\tremaining: 17.6s\n",
            "500:\tlearn: 130693.6682892\ttotal: 17.6s\tremaining: 17.5s\n",
            "501:\tlearn: 130645.6934719\ttotal: 17.6s\tremaining: 17.4s\n",
            "502:\tlearn: 130590.8210701\ttotal: 17.6s\tremaining: 17.4s\n",
            "503:\tlearn: 130549.3834943\ttotal: 17.6s\tremaining: 17.3s\n",
            "504:\tlearn: 130478.4708173\ttotal: 17.6s\tremaining: 17.3s\n",
            "505:\tlearn: 130379.5531620\ttotal: 17.6s\tremaining: 17.2s\n",
            "506:\tlearn: 130320.5594747\ttotal: 17.6s\tremaining: 17.2s\n",
            "507:\tlearn: 130285.2037183\ttotal: 17.7s\tremaining: 17.1s\n",
            "508:\tlearn: 130185.3714245\ttotal: 17.7s\tremaining: 17s\n",
            "509:\tlearn: 130091.4311998\ttotal: 17.7s\tremaining: 17s\n",
            "510:\tlearn: 130055.2859399\ttotal: 17.7s\tremaining: 16.9s\n",
            "511:\tlearn: 130005.9638893\ttotal: 17.7s\tremaining: 16.9s\n",
            "512:\tlearn: 129931.1951682\ttotal: 17.7s\tremaining: 16.8s\n",
            "513:\tlearn: 129844.8733849\ttotal: 17.7s\tremaining: 16.8s\n",
            "514:\tlearn: 129780.6374731\ttotal: 17.7s\tremaining: 16.7s\n",
            "515:\tlearn: 129727.0515363\ttotal: 17.8s\tremaining: 16.7s\n",
            "516:\tlearn: 129659.5350138\ttotal: 17.8s\tremaining: 16.6s\n",
            "517:\tlearn: 129602.8307417\ttotal: 17.8s\tremaining: 16.6s\n",
            "518:\tlearn: 129564.2204298\ttotal: 17.8s\tremaining: 16.5s\n",
            "519:\tlearn: 129516.0605619\ttotal: 17.8s\tremaining: 16.4s\n",
            "520:\tlearn: 129481.1618678\ttotal: 17.8s\tremaining: 16.4s\n",
            "521:\tlearn: 129438.4119873\ttotal: 17.8s\tremaining: 16.3s\n",
            "522:\tlearn: 129394.2376789\ttotal: 17.9s\tremaining: 16.3s\n",
            "523:\tlearn: 129342.9745544\ttotal: 17.9s\tremaining: 16.2s\n",
            "524:\tlearn: 128684.9192512\ttotal: 17.9s\tremaining: 16.2s\n",
            "525:\tlearn: 128656.4302689\ttotal: 17.9s\tremaining: 16.1s\n",
            "526:\tlearn: 128609.1049630\ttotal: 17.9s\tremaining: 16.1s\n",
            "527:\tlearn: 128543.7885121\ttotal: 17.9s\tremaining: 16s\n",
            "528:\tlearn: 128469.7557311\ttotal: 17.9s\tremaining: 16s\n",
            "529:\tlearn: 128370.6189213\ttotal: 18s\tremaining: 15.9s\n",
            "530:\tlearn: 128315.8433550\ttotal: 18s\tremaining: 15.9s\n",
            "531:\tlearn: 128287.3255186\ttotal: 18s\tremaining: 15.8s\n",
            "532:\tlearn: 128255.7743643\ttotal: 18s\tremaining: 15.8s\n",
            "533:\tlearn: 128231.1645497\ttotal: 18s\tremaining: 15.7s\n",
            "534:\tlearn: 128170.5747506\ttotal: 18s\tremaining: 15.7s\n",
            "535:\tlearn: 128124.9759361\ttotal: 18s\tremaining: 15.6s\n",
            "536:\tlearn: 128079.0236919\ttotal: 18s\tremaining: 15.6s\n",
            "537:\tlearn: 128032.7373500\ttotal: 18.1s\tremaining: 15.5s\n",
            "538:\tlearn: 127978.8699136\ttotal: 18.1s\tremaining: 15.5s\n",
            "539:\tlearn: 127911.1765641\ttotal: 18.1s\tremaining: 15.4s\n",
            "540:\tlearn: 127867.4990939\ttotal: 18.1s\tremaining: 15.4s\n",
            "541:\tlearn: 127819.9816905\ttotal: 18.1s\tremaining: 15.3s\n",
            "542:\tlearn: 127771.8062770\ttotal: 18.1s\tremaining: 15.3s\n",
            "543:\tlearn: 127742.6753343\ttotal: 18.1s\tremaining: 15.2s\n",
            "544:\tlearn: 127687.7540962\ttotal: 18.1s\tremaining: 15.2s\n",
            "545:\tlearn: 127594.1992027\ttotal: 18.2s\tremaining: 15.1s\n",
            "546:\tlearn: 127530.2955223\ttotal: 18.2s\tremaining: 15s\n",
            "547:\tlearn: 127493.9558303\ttotal: 18.2s\tremaining: 15s\n",
            "548:\tlearn: 127300.3717969\ttotal: 18.2s\tremaining: 14.9s\n",
            "549:\tlearn: 127242.0118237\ttotal: 18.2s\tremaining: 14.9s\n",
            "550:\tlearn: 127170.8446145\ttotal: 18.2s\tremaining: 14.8s\n",
            "551:\tlearn: 127096.7116683\ttotal: 18.2s\tremaining: 14.8s\n",
            "552:\tlearn: 127049.9060313\ttotal: 18.3s\tremaining: 14.8s\n",
            "553:\tlearn: 126977.7244937\ttotal: 18.3s\tremaining: 14.7s\n",
            "554:\tlearn: 126499.9950030\ttotal: 18.3s\tremaining: 14.7s\n",
            "555:\tlearn: 126449.9838958\ttotal: 18.3s\tremaining: 14.6s\n",
            "556:\tlearn: 126174.4610717\ttotal: 18.3s\tremaining: 14.6s\n",
            "557:\tlearn: 125922.5641610\ttotal: 18.3s\tremaining: 14.5s\n",
            "558:\tlearn: 125882.8405359\ttotal: 18.4s\tremaining: 14.5s\n",
            "559:\tlearn: 125834.2561710\ttotal: 18.4s\tremaining: 14.4s\n",
            "560:\tlearn: 125805.1990094\ttotal: 18.4s\tremaining: 14.4s\n",
            "561:\tlearn: 125766.4217522\ttotal: 18.4s\tremaining: 14.3s\n",
            "562:\tlearn: 125702.6840105\ttotal: 18.4s\tremaining: 14.3s\n",
            "563:\tlearn: 125637.6732444\ttotal: 18.4s\tremaining: 14.2s\n",
            "564:\tlearn: 125582.6423899\ttotal: 18.4s\tremaining: 14.2s\n",
            "565:\tlearn: 125035.4681845\ttotal: 18.4s\tremaining: 14.1s\n",
            "566:\tlearn: 124996.2037686\ttotal: 18.5s\tremaining: 14.1s\n",
            "567:\tlearn: 124946.7427986\ttotal: 18.5s\tremaining: 14.1s\n",
            "568:\tlearn: 124891.7740493\ttotal: 18.5s\tremaining: 14s\n",
            "569:\tlearn: 124857.9249997\ttotal: 18.5s\tremaining: 14s\n",
            "570:\tlearn: 124800.6055133\ttotal: 18.5s\tremaining: 13.9s\n",
            "571:\tlearn: 124766.3110531\ttotal: 18.5s\tremaining: 13.9s\n",
            "572:\tlearn: 124728.2536078\ttotal: 18.5s\tremaining: 13.8s\n",
            "573:\tlearn: 124718.1112732\ttotal: 18.6s\tremaining: 13.8s\n",
            "574:\tlearn: 124662.6498850\ttotal: 18.6s\tremaining: 13.7s\n",
            "575:\tlearn: 124612.3729543\ttotal: 18.6s\tremaining: 13.7s\n",
            "576:\tlearn: 124320.5612546\ttotal: 18.6s\tremaining: 13.6s\n",
            "577:\tlearn: 124290.2912085\ttotal: 18.6s\tremaining: 13.6s\n",
            "578:\tlearn: 124225.5244337\ttotal: 18.6s\tremaining: 13.5s\n",
            "579:\tlearn: 124159.0851035\ttotal: 18.6s\tremaining: 13.5s\n",
            "580:\tlearn: 124097.6211490\ttotal: 18.7s\tremaining: 13.5s\n",
            "581:\tlearn: 124004.1339245\ttotal: 18.7s\tremaining: 13.4s\n",
            "582:\tlearn: 123968.2388947\ttotal: 18.7s\tremaining: 13.4s\n",
            "583:\tlearn: 123922.1745014\ttotal: 18.7s\tremaining: 13.3s\n",
            "584:\tlearn: 123863.1198815\ttotal: 18.7s\tremaining: 13.3s\n",
            "585:\tlearn: 123812.2449659\ttotal: 18.7s\tremaining: 13.2s\n",
            "586:\tlearn: 123750.0011124\ttotal: 18.8s\tremaining: 13.2s\n",
            "587:\tlearn: 123738.8779934\ttotal: 18.8s\tremaining: 13.1s\n",
            "588:\tlearn: 123664.6802120\ttotal: 18.8s\tremaining: 13.1s\n",
            "589:\tlearn: 123625.8247678\ttotal: 18.8s\tremaining: 13.1s\n",
            "590:\tlearn: 123566.3195631\ttotal: 18.8s\tremaining: 13s\n",
            "591:\tlearn: 123529.5375966\ttotal: 18.8s\tremaining: 13s\n",
            "592:\tlearn: 123497.9305915\ttotal: 18.8s\tremaining: 12.9s\n",
            "593:\tlearn: 123441.8932115\ttotal: 18.8s\tremaining: 12.9s\n",
            "594:\tlearn: 123409.3558121\ttotal: 18.9s\tremaining: 12.8s\n",
            "595:\tlearn: 123368.2104773\ttotal: 18.9s\tremaining: 12.8s\n",
            "596:\tlearn: 123296.2329773\ttotal: 18.9s\tremaining: 12.7s\n",
            "597:\tlearn: 123213.7056995\ttotal: 18.9s\tremaining: 12.7s\n",
            "598:\tlearn: 123176.5510917\ttotal: 18.9s\tremaining: 12.7s\n",
            "599:\tlearn: 122893.7223699\ttotal: 18.9s\tremaining: 12.6s\n",
            "600:\tlearn: 122844.7757126\ttotal: 18.9s\tremaining: 12.6s\n",
            "601:\tlearn: 122785.4857240\ttotal: 18.9s\tremaining: 12.5s\n",
            "602:\tlearn: 122749.5151422\ttotal: 19s\tremaining: 12.5s\n",
            "603:\tlearn: 122714.0532629\ttotal: 19s\tremaining: 12.4s\n",
            "604:\tlearn: 122454.1859362\ttotal: 19s\tremaining: 12.4s\n",
            "605:\tlearn: 122432.0856669\ttotal: 19s\tremaining: 12.4s\n",
            "606:\tlearn: 122390.8342068\ttotal: 19s\tremaining: 12.3s\n",
            "607:\tlearn: 122347.7371672\ttotal: 19s\tremaining: 12.3s\n",
            "608:\tlearn: 122306.9210258\ttotal: 19s\tremaining: 12.2s\n",
            "609:\tlearn: 122260.7952978\ttotal: 19.1s\tremaining: 12.2s\n",
            "610:\tlearn: 122229.0049817\ttotal: 19.1s\tremaining: 12.1s\n",
            "611:\tlearn: 122171.1518925\ttotal: 19.1s\tremaining: 12.1s\n",
            "612:\tlearn: 122117.3153186\ttotal: 19.1s\tremaining: 12.1s\n",
            "613:\tlearn: 122063.6893173\ttotal: 19.1s\tremaining: 12s\n",
            "614:\tlearn: 121914.9543537\ttotal: 19.1s\tremaining: 12s\n",
            "615:\tlearn: 121862.6625761\ttotal: 19.1s\tremaining: 11.9s\n",
            "616:\tlearn: 121823.1361662\ttotal: 19.1s\tremaining: 11.9s\n",
            "617:\tlearn: 121759.9281738\ttotal: 19.2s\tremaining: 11.8s\n",
            "618:\tlearn: 121342.9923911\ttotal: 19.2s\tremaining: 11.8s\n",
            "619:\tlearn: 121323.3435620\ttotal: 19.2s\tremaining: 11.8s\n",
            "620:\tlearn: 121311.0313508\ttotal: 19.2s\tremaining: 11.7s\n",
            "621:\tlearn: 120824.7199260\ttotal: 19.2s\tremaining: 11.7s\n",
            "622:\tlearn: 120790.4426708\ttotal: 19.2s\tremaining: 11.6s\n",
            "623:\tlearn: 120732.0689028\ttotal: 19.2s\tremaining: 11.6s\n",
            "624:\tlearn: 120652.9955974\ttotal: 19.2s\tremaining: 11.5s\n",
            "625:\tlearn: 120613.2444685\ttotal: 19.3s\tremaining: 11.5s\n",
            "626:\tlearn: 120548.0760321\ttotal: 19.3s\tremaining: 11.5s\n",
            "627:\tlearn: 120491.2966485\ttotal: 19.3s\tremaining: 11.4s\n",
            "628:\tlearn: 120448.1181393\ttotal: 19.3s\tremaining: 11.4s\n",
            "629:\tlearn: 120399.9183638\ttotal: 19.3s\tremaining: 11.3s\n",
            "630:\tlearn: 120376.9335139\ttotal: 19.3s\tremaining: 11.3s\n",
            "631:\tlearn: 120304.9526734\ttotal: 19.4s\tremaining: 11.3s\n",
            "632:\tlearn: 120239.6152322\ttotal: 19.4s\tremaining: 11.2s\n",
            "633:\tlearn: 120159.3917733\ttotal: 19.4s\tremaining: 11.2s\n",
            "634:\tlearn: 120140.3973016\ttotal: 19.4s\tremaining: 11.2s\n",
            "635:\tlearn: 120084.7495153\ttotal: 19.4s\tremaining: 11.1s\n",
            "636:\tlearn: 120046.4876333\ttotal: 19.5s\tremaining: 11.1s\n",
            "637:\tlearn: 120019.0580498\ttotal: 19.5s\tremaining: 11.1s\n",
            "638:\tlearn: 120007.2985250\ttotal: 19.5s\tremaining: 11s\n",
            "639:\tlearn: 119953.6270040\ttotal: 19.6s\tremaining: 11s\n",
            "640:\tlearn: 119912.6998848\ttotal: 19.6s\tremaining: 11s\n",
            "641:\tlearn: 119860.9239516\ttotal: 19.6s\tremaining: 10.9s\n",
            "642:\tlearn: 119816.5934341\ttotal: 19.6s\tremaining: 10.9s\n",
            "643:\tlearn: 119770.4714310\ttotal: 19.7s\tremaining: 10.9s\n",
            "644:\tlearn: 119722.1908939\ttotal: 19.7s\tremaining: 10.8s\n",
            "645:\tlearn: 119680.0998482\ttotal: 19.7s\tremaining: 10.8s\n",
            "646:\tlearn: 119593.3754142\ttotal: 19.7s\tremaining: 10.8s\n",
            "647:\tlearn: 119567.8542225\ttotal: 19.8s\tremaining: 10.7s\n",
            "648:\tlearn: 119462.6365127\ttotal: 19.8s\tremaining: 10.7s\n",
            "649:\tlearn: 119436.7891319\ttotal: 19.8s\tremaining: 10.7s\n",
            "650:\tlearn: 119403.0371859\ttotal: 19.8s\tremaining: 10.6s\n",
            "651:\tlearn: 119352.2351820\ttotal: 19.8s\tremaining: 10.6s\n",
            "652:\tlearn: 119291.4917604\ttotal: 19.9s\tremaining: 10.6s\n",
            "653:\tlearn: 118818.3123634\ttotal: 19.9s\tremaining: 10.5s\n",
            "654:\tlearn: 118748.6347108\ttotal: 19.9s\tremaining: 10.5s\n",
            "655:\tlearn: 118684.6559814\ttotal: 20s\tremaining: 10.5s\n",
            "656:\tlearn: 118369.6418549\ttotal: 20s\tremaining: 10.4s\n",
            "657:\tlearn: 118119.4672495\ttotal: 20s\tremaining: 10.4s\n",
            "658:\tlearn: 118089.9170677\ttotal: 20.1s\tremaining: 10.4s\n",
            "659:\tlearn: 118036.6669034\ttotal: 20.1s\tremaining: 10.4s\n",
            "660:\tlearn: 117992.7139700\ttotal: 20.1s\tremaining: 10.3s\n",
            "661:\tlearn: 117957.7207915\ttotal: 20.1s\tremaining: 10.3s\n",
            "662:\tlearn: 117914.4641944\ttotal: 20.2s\tremaining: 10.3s\n",
            "663:\tlearn: 117897.7851017\ttotal: 20.2s\tremaining: 10.2s\n",
            "664:\tlearn: 117863.1410802\ttotal: 20.2s\tremaining: 10.2s\n",
            "665:\tlearn: 117814.6547568\ttotal: 20.3s\tremaining: 10.2s\n",
            "666:\tlearn: 117769.3568952\ttotal: 20.3s\tremaining: 10.1s\n",
            "667:\tlearn: 117356.5025003\ttotal: 20.3s\tremaining: 10.1s\n",
            "668:\tlearn: 117302.3085684\ttotal: 20.4s\tremaining: 10.1s\n",
            "669:\tlearn: 117267.4240290\ttotal: 20.4s\tremaining: 10s\n",
            "670:\tlearn: 117246.2733185\ttotal: 20.4s\tremaining: 10s\n",
            "671:\tlearn: 117216.6814213\ttotal: 20.5s\tremaining: 9.99s\n",
            "672:\tlearn: 117137.0559618\ttotal: 20.5s\tremaining: 9.96s\n",
            "673:\tlearn: 117128.6212974\ttotal: 20.5s\tremaining: 9.92s\n",
            "674:\tlearn: 117047.5311497\ttotal: 20.5s\tremaining: 9.89s\n",
            "675:\tlearn: 117016.0672152\ttotal: 20.6s\tremaining: 9.86s\n",
            "676:\tlearn: 116992.2862264\ttotal: 20.6s\tremaining: 9.83s\n",
            "677:\tlearn: 116955.9089519\ttotal: 20.6s\tremaining: 9.79s\n",
            "678:\tlearn: 116942.6005736\ttotal: 20.6s\tremaining: 9.76s\n",
            "679:\tlearn: 116891.8018707\ttotal: 20.7s\tremaining: 9.72s\n",
            "680:\tlearn: 116851.4396182\ttotal: 20.7s\tremaining: 9.69s\n",
            "681:\tlearn: 116837.3326255\ttotal: 20.7s\tremaining: 9.65s\n",
            "682:\tlearn: 116791.7379946\ttotal: 20.8s\tremaining: 9.63s\n",
            "683:\tlearn: 116743.4909093\ttotal: 20.8s\tremaining: 9.61s\n",
            "684:\tlearn: 116700.2732413\ttotal: 20.8s\tremaining: 9.58s\n",
            "685:\tlearn: 116655.1184486\ttotal: 20.9s\tremaining: 9.54s\n",
            "686:\tlearn: 116604.9477373\ttotal: 20.9s\tremaining: 9.51s\n",
            "687:\tlearn: 116525.1081571\ttotal: 20.9s\tremaining: 9.48s\n",
            "688:\tlearn: 116488.8028858\ttotal: 20.9s\tremaining: 9.45s\n",
            "689:\tlearn: 116458.0082209\ttotal: 21s\tremaining: 9.42s\n",
            "690:\tlearn: 116036.4130819\ttotal: 21s\tremaining: 9.38s\n",
            "691:\tlearn: 116017.1008962\ttotal: 21s\tremaining: 9.34s\n",
            "692:\tlearn: 115943.5537950\ttotal: 21s\tremaining: 9.31s\n",
            "693:\tlearn: 115884.6589373\ttotal: 21s\tremaining: 9.27s\n",
            "694:\tlearn: 115857.6848141\ttotal: 21s\tremaining: 9.23s\n",
            "695:\tlearn: 115702.9019774\ttotal: 21.1s\tremaining: 9.2s\n",
            "696:\tlearn: 115671.6271410\ttotal: 21.1s\tremaining: 9.16s\n",
            "697:\tlearn: 115630.7355914\ttotal: 21.1s\tremaining: 9.13s\n",
            "698:\tlearn: 115598.4939005\ttotal: 21.1s\tremaining: 9.1s\n",
            "699:\tlearn: 115558.7986276\ttotal: 21.2s\tremaining: 9.07s\n",
            "700:\tlearn: 115152.0791178\ttotal: 21.2s\tremaining: 9.04s\n",
            "701:\tlearn: 115095.9643206\ttotal: 21.2s\tremaining: 9.01s\n",
            "702:\tlearn: 115064.8266953\ttotal: 21.3s\tremaining: 8.98s\n",
            "703:\tlearn: 115028.3039526\ttotal: 21.3s\tremaining: 8.96s\n",
            "704:\tlearn: 114986.2954127\ttotal: 21.3s\tremaining: 8.93s\n",
            "705:\tlearn: 114897.3503447\ttotal: 21.4s\tremaining: 8.9s\n",
            "706:\tlearn: 114520.6090329\ttotal: 21.4s\tremaining: 8.87s\n",
            "707:\tlearn: 114492.6919541\ttotal: 21.4s\tremaining: 8.84s\n",
            "708:\tlearn: 114448.6069285\ttotal: 21.5s\tremaining: 8.81s\n",
            "709:\tlearn: 114395.8661512\ttotal: 21.5s\tremaining: 8.78s\n",
            "710:\tlearn: 114378.1424188\ttotal: 21.5s\tremaining: 8.75s\n",
            "711:\tlearn: 114341.3118262\ttotal: 21.6s\tremaining: 8.72s\n",
            "712:\tlearn: 114278.1720303\ttotal: 21.6s\tremaining: 8.69s\n",
            "713:\tlearn: 114232.0717729\ttotal: 21.6s\tremaining: 8.66s\n",
            "714:\tlearn: 114182.5287560\ttotal: 21.7s\tremaining: 8.63s\n",
            "715:\tlearn: 114157.6290561\ttotal: 21.7s\tremaining: 8.6s\n",
            "716:\tlearn: 114138.8787710\ttotal: 21.7s\tremaining: 8.56s\n",
            "717:\tlearn: 114080.5569451\ttotal: 21.7s\tremaining: 8.53s\n",
            "718:\tlearn: 113724.2635001\ttotal: 21.7s\tremaining: 8.49s\n",
            "719:\tlearn: 113448.6971765\ttotal: 21.8s\tremaining: 8.46s\n",
            "720:\tlearn: 113367.0285136\ttotal: 21.8s\tremaining: 8.43s\n",
            "721:\tlearn: 113285.3381985\ttotal: 21.8s\tremaining: 8.4s\n",
            "722:\tlearn: 113262.1613873\ttotal: 21.8s\tremaining: 8.37s\n",
            "723:\tlearn: 113233.6539803\ttotal: 21.9s\tremaining: 8.34s\n",
            "724:\tlearn: 112883.3749651\ttotal: 21.9s\tremaining: 8.31s\n",
            "725:\tlearn: 112840.7122289\ttotal: 21.9s\tremaining: 8.28s\n",
            "726:\tlearn: 112744.8390814\ttotal: 22s\tremaining: 8.25s\n",
            "727:\tlearn: 112699.6499499\ttotal: 22s\tremaining: 8.22s\n",
            "728:\tlearn: 112381.7078321\ttotal: 22s\tremaining: 8.19s\n",
            "729:\tlearn: 112339.4925805\ttotal: 22s\tremaining: 8.15s\n",
            "730:\tlearn: 112297.3213604\ttotal: 22.1s\tremaining: 8.13s\n",
            "731:\tlearn: 112236.0459553\ttotal: 22.1s\tremaining: 8.1s\n",
            "732:\tlearn: 112196.9217520\ttotal: 22.1s\tremaining: 8.06s\n",
            "733:\tlearn: 112138.0355334\ttotal: 22.1s\tremaining: 8.03s\n",
            "734:\tlearn: 112115.7529609\ttotal: 22.2s\tremaining: 7.99s\n",
            "735:\tlearn: 112089.5224529\ttotal: 22.2s\tremaining: 7.96s\n",
            "736:\tlearn: 111977.1389894\ttotal: 22.2s\tremaining: 7.92s\n",
            "737:\tlearn: 111936.3849766\ttotal: 22.2s\tremaining: 7.89s\n",
            "738:\tlearn: 111890.7253294\ttotal: 22.2s\tremaining: 7.86s\n",
            "739:\tlearn: 111865.1101559\ttotal: 22.3s\tremaining: 7.82s\n",
            "740:\tlearn: 111814.6592611\ttotal: 22.3s\tremaining: 7.79s\n",
            "741:\tlearn: 111786.7614329\ttotal: 22.3s\tremaining: 7.76s\n",
            "742:\tlearn: 111736.4026410\ttotal: 22.4s\tremaining: 7.73s\n",
            "743:\tlearn: 111676.9736033\ttotal: 22.4s\tremaining: 7.7s\n",
            "744:\tlearn: 111377.0927098\ttotal: 22.4s\tremaining: 7.67s\n",
            "745:\tlearn: 111338.3197824\ttotal: 22.4s\tremaining: 7.64s\n",
            "746:\tlearn: 111304.9988123\ttotal: 22.5s\tremaining: 7.61s\n",
            "747:\tlearn: 111105.0674229\ttotal: 22.5s\tremaining: 7.58s\n",
            "748:\tlearn: 111061.8122125\ttotal: 22.5s\tremaining: 7.55s\n",
            "749:\tlearn: 111027.7218670\ttotal: 22.5s\tremaining: 7.51s\n",
            "750:\tlearn: 110974.5568254\ttotal: 22.6s\tremaining: 7.48s\n",
            "751:\tlearn: 110946.6865792\ttotal: 22.6s\tremaining: 7.45s\n",
            "752:\tlearn: 110903.0132676\ttotal: 22.6s\tremaining: 7.42s\n",
            "753:\tlearn: 110865.4059445\ttotal: 22.7s\tremaining: 7.4s\n",
            "754:\tlearn: 110796.2260205\ttotal: 22.7s\tremaining: 7.37s\n",
            "755:\tlearn: 110787.1865846\ttotal: 22.7s\tremaining: 7.33s\n",
            "756:\tlearn: 110737.4458935\ttotal: 22.8s\tremaining: 7.3s\n",
            "757:\tlearn: 110671.0974481\ttotal: 22.8s\tremaining: 7.27s\n",
            "758:\tlearn: 110618.6380022\ttotal: 22.8s\tremaining: 7.25s\n",
            "759:\tlearn: 110579.8470239\ttotal: 22.9s\tremaining: 7.22s\n",
            "760:\tlearn: 110544.6039995\ttotal: 22.9s\tremaining: 7.18s\n",
            "761:\tlearn: 110510.9105660\ttotal: 22.9s\tremaining: 7.16s\n",
            "762:\tlearn: 110448.8295011\ttotal: 22.9s\tremaining: 7.13s\n",
            "763:\tlearn: 110382.2663006\ttotal: 23s\tremaining: 7.09s\n",
            "764:\tlearn: 110322.6086142\ttotal: 23s\tremaining: 7.07s\n",
            "765:\tlearn: 110271.6072779\ttotal: 23s\tremaining: 7.04s\n",
            "766:\tlearn: 110236.4009372\ttotal: 23.1s\tremaining: 7.01s\n",
            "767:\tlearn: 110207.9443073\ttotal: 23.1s\tremaining: 6.98s\n",
            "768:\tlearn: 110158.4957065\ttotal: 23.1s\tremaining: 6.95s\n",
            "769:\tlearn: 109870.3439233\ttotal: 23.2s\tremaining: 6.92s\n",
            "770:\tlearn: 109849.9131895\ttotal: 23.2s\tremaining: 6.89s\n",
            "771:\tlearn: 109806.8974754\ttotal: 23.2s\tremaining: 6.86s\n",
            "772:\tlearn: 109733.1515828\ttotal: 23.3s\tremaining: 6.83s\n",
            "773:\tlearn: 109561.8315587\ttotal: 23.3s\tremaining: 6.8s\n",
            "774:\tlearn: 109520.7253467\ttotal: 23.3s\tremaining: 6.77s\n",
            "775:\tlearn: 109481.1400150\ttotal: 23.3s\tremaining: 6.74s\n",
            "776:\tlearn: 109426.8477899\ttotal: 23.4s\tremaining: 6.71s\n",
            "777:\tlearn: 109398.6634408\ttotal: 23.4s\tremaining: 6.67s\n",
            "778:\tlearn: 109364.6726789\ttotal: 23.4s\tremaining: 6.65s\n",
            "779:\tlearn: 109337.8542288\ttotal: 23.5s\tremaining: 6.61s\n",
            "780:\tlearn: 109318.6583242\ttotal: 23.5s\tremaining: 6.59s\n",
            "781:\tlearn: 109264.0517738\ttotal: 23.5s\tremaining: 6.56s\n",
            "782:\tlearn: 109250.2223900\ttotal: 23.5s\tremaining: 6.52s\n",
            "783:\tlearn: 109171.4546731\ttotal: 23.6s\tremaining: 6.49s\n",
            "784:\tlearn: 109151.4627991\ttotal: 23.6s\tremaining: 6.46s\n",
            "785:\tlearn: 109118.3743833\ttotal: 23.6s\tremaining: 6.42s\n",
            "786:\tlearn: 109065.9837020\ttotal: 23.6s\tremaining: 6.39s\n",
            "787:\tlearn: 108835.4471826\ttotal: 23.6s\tremaining: 6.35s\n",
            "788:\tlearn: 108818.4126559\ttotal: 23.6s\tremaining: 6.32s\n",
            "789:\tlearn: 108788.1457157\ttotal: 23.6s\tremaining: 6.28s\n",
            "790:\tlearn: 108759.4409127\ttotal: 23.7s\tremaining: 6.25s\n",
            "791:\tlearn: 108720.7553224\ttotal: 23.7s\tremaining: 6.22s\n",
            "792:\tlearn: 108689.1625305\ttotal: 23.7s\tremaining: 6.18s\n",
            "793:\tlearn: 108662.5563457\ttotal: 23.7s\tremaining: 6.15s\n",
            "794:\tlearn: 108629.9062225\ttotal: 23.7s\tremaining: 6.11s\n",
            "795:\tlearn: 108583.6307104\ttotal: 23.7s\tremaining: 6.08s\n",
            "796:\tlearn: 108545.2276176\ttotal: 23.7s\tremaining: 6.05s\n",
            "797:\tlearn: 108330.5260062\ttotal: 23.8s\tremaining: 6.01s\n",
            "798:\tlearn: 108304.6586802\ttotal: 23.8s\tremaining: 5.98s\n",
            "799:\tlearn: 108053.9629743\ttotal: 23.8s\tremaining: 5.95s\n",
            "800:\tlearn: 108034.4175564\ttotal: 23.8s\tremaining: 5.91s\n",
            "801:\tlearn: 107997.8609452\ttotal: 23.8s\tremaining: 5.88s\n",
            "802:\tlearn: 107956.9918319\ttotal: 23.8s\tremaining: 5.85s\n",
            "803:\tlearn: 107949.4466765\ttotal: 23.8s\tremaining: 5.81s\n",
            "804:\tlearn: 107891.9641288\ttotal: 23.9s\tremaining: 5.78s\n",
            "805:\tlearn: 107857.2414983\ttotal: 23.9s\tremaining: 5.75s\n",
            "806:\tlearn: 107821.1704245\ttotal: 23.9s\tremaining: 5.71s\n",
            "807:\tlearn: 107755.9407677\ttotal: 23.9s\tremaining: 5.68s\n",
            "808:\tlearn: 107717.9202045\ttotal: 23.9s\tremaining: 5.65s\n",
            "809:\tlearn: 107675.9861570\ttotal: 23.9s\tremaining: 5.61s\n",
            "810:\tlearn: 107632.4863898\ttotal: 23.9s\tremaining: 5.58s\n",
            "811:\tlearn: 107588.1843319\ttotal: 24s\tremaining: 5.55s\n",
            "812:\tlearn: 107538.8035012\ttotal: 24s\tremaining: 5.51s\n",
            "813:\tlearn: 107493.3973091\ttotal: 24s\tremaining: 5.48s\n",
            "814:\tlearn: 107463.9114544\ttotal: 24s\tremaining: 5.45s\n",
            "815:\tlearn: 107417.9768010\ttotal: 24s\tremaining: 5.42s\n",
            "816:\tlearn: 107395.2942253\ttotal: 24s\tremaining: 5.38s\n",
            "817:\tlearn: 107384.8052050\ttotal: 24s\tremaining: 5.35s\n",
            "818:\tlearn: 107337.5924467\ttotal: 24.1s\tremaining: 5.32s\n",
            "819:\tlearn: 107288.4172731\ttotal: 24.1s\tremaining: 5.28s\n",
            "820:\tlearn: 107253.3744056\ttotal: 24.1s\tremaining: 5.25s\n",
            "821:\tlearn: 107217.0908272\ttotal: 24.1s\tremaining: 5.22s\n",
            "822:\tlearn: 107168.6411442\ttotal: 24.1s\tremaining: 5.19s\n",
            "823:\tlearn: 107117.4955560\ttotal: 24.1s\tremaining: 5.15s\n",
            "824:\tlearn: 107098.1399814\ttotal: 24.1s\tremaining: 5.12s\n",
            "825:\tlearn: 106920.6625335\ttotal: 24.2s\tremaining: 5.09s\n",
            "826:\tlearn: 106882.5027062\ttotal: 24.2s\tremaining: 5.06s\n",
            "827:\tlearn: 106854.0195716\ttotal: 24.2s\tremaining: 5.02s\n",
            "828:\tlearn: 106825.2008618\ttotal: 24.2s\tremaining: 4.99s\n",
            "829:\tlearn: 106788.1262959\ttotal: 24.2s\tremaining: 4.96s\n",
            "830:\tlearn: 106760.7376794\ttotal: 24.2s\tremaining: 4.93s\n",
            "831:\tlearn: 106631.0904923\ttotal: 24.2s\tremaining: 4.89s\n",
            "832:\tlearn: 106611.1606471\ttotal: 24.3s\tremaining: 4.86s\n",
            "833:\tlearn: 106463.7607906\ttotal: 24.3s\tremaining: 4.83s\n",
            "834:\tlearn: 106404.1456850\ttotal: 24.3s\tremaining: 4.8s\n",
            "835:\tlearn: 106361.6035180\ttotal: 24.3s\tremaining: 4.76s\n",
            "836:\tlearn: 106337.0051462\ttotal: 24.3s\tremaining: 4.73s\n",
            "837:\tlearn: 106314.9336004\ttotal: 24.3s\tremaining: 4.7s\n",
            "838:\tlearn: 106265.4960544\ttotal: 24.3s\tremaining: 4.67s\n",
            "839:\tlearn: 106248.7247327\ttotal: 24.3s\tremaining: 4.64s\n",
            "840:\tlearn: 106203.0068687\ttotal: 24.4s\tremaining: 4.61s\n",
            "841:\tlearn: 106178.4910041\ttotal: 24.4s\tremaining: 4.57s\n",
            "842:\tlearn: 106159.5046900\ttotal: 24.4s\tremaining: 4.54s\n",
            "843:\tlearn: 105929.6663518\ttotal: 24.4s\tremaining: 4.51s\n",
            "844:\tlearn: 105897.1453555\ttotal: 24.4s\tremaining: 4.48s\n",
            "845:\tlearn: 105873.5753957\ttotal: 24.4s\tremaining: 4.45s\n",
            "846:\tlearn: 105829.0175453\ttotal: 24.4s\tremaining: 4.42s\n",
            "847:\tlearn: 105794.1673781\ttotal: 24.5s\tremaining: 4.38s\n",
            "848:\tlearn: 105767.8205654\ttotal: 24.5s\tremaining: 4.35s\n",
            "849:\tlearn: 105741.7122047\ttotal: 24.5s\tremaining: 4.32s\n",
            "850:\tlearn: 105701.0633958\ttotal: 24.5s\tremaining: 4.29s\n",
            "851:\tlearn: 105672.5631872\ttotal: 24.5s\tremaining: 4.26s\n",
            "852:\tlearn: 105651.4913688\ttotal: 24.5s\tremaining: 4.22s\n",
            "853:\tlearn: 105607.4045915\ttotal: 24.6s\tremaining: 4.2s\n",
            "854:\tlearn: 105565.6707735\ttotal: 24.6s\tremaining: 4.17s\n",
            "855:\tlearn: 105533.2495632\ttotal: 24.6s\tremaining: 4.13s\n",
            "856:\tlearn: 105285.1763013\ttotal: 24.6s\tremaining: 4.1s\n",
            "857:\tlearn: 105243.3468267\ttotal: 24.6s\tremaining: 4.07s\n",
            "858:\tlearn: 105120.6287038\ttotal: 24.6s\tremaining: 4.04s\n",
            "859:\tlearn: 105097.8239949\ttotal: 24.6s\tremaining: 4.01s\n",
            "860:\tlearn: 105062.5285101\ttotal: 24.6s\tremaining: 3.98s\n",
            "861:\tlearn: 104998.5975924\ttotal: 24.7s\tremaining: 3.95s\n",
            "862:\tlearn: 104954.1508381\ttotal: 24.7s\tremaining: 3.92s\n",
            "863:\tlearn: 104930.1748559\ttotal: 24.7s\tremaining: 3.89s\n",
            "864:\tlearn: 104883.4375061\ttotal: 24.7s\tremaining: 3.85s\n",
            "865:\tlearn: 104859.3244308\ttotal: 24.7s\tremaining: 3.82s\n",
            "866:\tlearn: 104853.1329664\ttotal: 24.7s\tremaining: 3.79s\n",
            "867:\tlearn: 104824.1533152\ttotal: 24.7s\tremaining: 3.76s\n",
            "868:\tlearn: 104813.4776987\ttotal: 24.8s\tremaining: 3.73s\n",
            "869:\tlearn: 104796.6235579\ttotal: 24.8s\tremaining: 3.7s\n",
            "870:\tlearn: 104761.0655897\ttotal: 24.8s\tremaining: 3.67s\n",
            "871:\tlearn: 104728.4628715\ttotal: 24.8s\tremaining: 3.64s\n",
            "872:\tlearn: 104713.6857578\ttotal: 24.8s\tremaining: 3.61s\n",
            "873:\tlearn: 104674.0143281\ttotal: 24.8s\tremaining: 3.58s\n",
            "874:\tlearn: 104644.7328788\ttotal: 24.8s\tremaining: 3.55s\n",
            "875:\tlearn: 104429.5304410\ttotal: 24.8s\tremaining: 3.52s\n",
            "876:\tlearn: 104411.6466361\ttotal: 24.9s\tremaining: 3.49s\n",
            "877:\tlearn: 104376.1317252\ttotal: 24.9s\tremaining: 3.46s\n",
            "878:\tlearn: 104335.6823099\ttotal: 24.9s\tremaining: 3.43s\n",
            "879:\tlearn: 104298.4408703\ttotal: 24.9s\tremaining: 3.4s\n",
            "880:\tlearn: 104267.0150530\ttotal: 24.9s\tremaining: 3.37s\n",
            "881:\tlearn: 104241.7772703\ttotal: 24.9s\tremaining: 3.33s\n",
            "882:\tlearn: 104222.7017732\ttotal: 24.9s\tremaining: 3.3s\n",
            "883:\tlearn: 104206.9481700\ttotal: 24.9s\tremaining: 3.27s\n",
            "884:\tlearn: 104166.9623409\ttotal: 25s\tremaining: 3.24s\n",
            "885:\tlearn: 104141.7174413\ttotal: 25s\tremaining: 3.21s\n",
            "886:\tlearn: 104104.9117602\ttotal: 25s\tremaining: 3.18s\n",
            "887:\tlearn: 104069.6335212\ttotal: 25s\tremaining: 3.15s\n",
            "888:\tlearn: 104007.3088453\ttotal: 25s\tremaining: 3.12s\n",
            "889:\tlearn: 103965.0344680\ttotal: 25s\tremaining: 3.09s\n",
            "890:\tlearn: 103929.8483849\ttotal: 25s\tremaining: 3.06s\n",
            "891:\tlearn: 103898.4014471\ttotal: 25.1s\tremaining: 3.03s\n",
            "892:\tlearn: 103875.5361491\ttotal: 25.1s\tremaining: 3s\n",
            "893:\tlearn: 103820.1162662\ttotal: 25.1s\tremaining: 2.97s\n",
            "894:\tlearn: 103769.8745936\ttotal: 25.1s\tremaining: 2.94s\n",
            "895:\tlearn: 103736.8720100\ttotal: 25.1s\tremaining: 2.91s\n",
            "896:\tlearn: 103730.2675736\ttotal: 25.1s\tremaining: 2.88s\n",
            "897:\tlearn: 103693.2148157\ttotal: 25.1s\tremaining: 2.85s\n",
            "898:\tlearn: 103668.1138514\ttotal: 25.2s\tremaining: 2.83s\n",
            "899:\tlearn: 103642.5296002\ttotal: 25.2s\tremaining: 2.79s\n",
            "900:\tlearn: 103431.4304107\ttotal: 25.2s\tremaining: 2.77s\n",
            "901:\tlearn: 103412.4352740\ttotal: 25.2s\tremaining: 2.74s\n",
            "902:\tlearn: 103371.7587287\ttotal: 25.2s\tremaining: 2.71s\n",
            "903:\tlearn: 103354.5114303\ttotal: 25.2s\tremaining: 2.68s\n",
            "904:\tlearn: 103331.9129764\ttotal: 25.2s\tremaining: 2.65s\n",
            "905:\tlearn: 103287.1676497\ttotal: 25.2s\tremaining: 2.62s\n",
            "906:\tlearn: 103252.7738866\ttotal: 25.3s\tremaining: 2.59s\n",
            "907:\tlearn: 103243.6794866\ttotal: 25.3s\tremaining: 2.56s\n",
            "908:\tlearn: 103183.9196489\ttotal: 25.3s\tremaining: 2.53s\n",
            "909:\tlearn: 103158.0545250\ttotal: 25.3s\tremaining: 2.5s\n",
            "910:\tlearn: 103117.7153126\ttotal: 25.3s\tremaining: 2.47s\n",
            "911:\tlearn: 102911.0379864\ttotal: 25.3s\tremaining: 2.44s\n",
            "912:\tlearn: 102718.6226114\ttotal: 25.3s\tremaining: 2.41s\n",
            "913:\tlearn: 102692.9361939\ttotal: 25.3s\tremaining: 2.38s\n",
            "914:\tlearn: 102651.1682620\ttotal: 25.4s\tremaining: 2.35s\n",
            "915:\tlearn: 102591.2356930\ttotal: 25.4s\tremaining: 2.33s\n",
            "916:\tlearn: 102546.8480373\ttotal: 25.4s\tremaining: 2.3s\n",
            "917:\tlearn: 102528.4111623\ttotal: 25.4s\tremaining: 2.27s\n",
            "918:\tlearn: 102502.1960224\ttotal: 25.4s\tremaining: 2.24s\n",
            "919:\tlearn: 102483.3453804\ttotal: 25.4s\tremaining: 2.21s\n",
            "920:\tlearn: 102456.1483134\ttotal: 25.4s\tremaining: 2.18s\n",
            "921:\tlearn: 102283.7948872\ttotal: 25.4s\tremaining: 2.15s\n",
            "922:\tlearn: 102248.9391625\ttotal: 25.5s\tremaining: 2.12s\n",
            "923:\tlearn: 102224.5042245\ttotal: 25.5s\tremaining: 2.1s\n",
            "924:\tlearn: 102048.0611437\ttotal: 25.5s\tremaining: 2.07s\n",
            "925:\tlearn: 102024.5778445\ttotal: 25.5s\tremaining: 2.04s\n",
            "926:\tlearn: 101999.2736634\ttotal: 25.5s\tremaining: 2.01s\n",
            "927:\tlearn: 101978.9174736\ttotal: 25.5s\tremaining: 1.98s\n",
            "928:\tlearn: 101933.2276862\ttotal: 25.6s\tremaining: 1.95s\n",
            "929:\tlearn: 101911.1171284\ttotal: 25.6s\tremaining: 1.92s\n",
            "930:\tlearn: 101891.3705390\ttotal: 25.6s\tremaining: 1.9s\n",
            "931:\tlearn: 101865.9550920\ttotal: 25.6s\tremaining: 1.87s\n",
            "932:\tlearn: 101827.7425965\ttotal: 25.6s\tremaining: 1.84s\n",
            "933:\tlearn: 101793.4600810\ttotal: 25.6s\tremaining: 1.81s\n",
            "934:\tlearn: 101766.4672137\ttotal: 25.6s\tremaining: 1.78s\n",
            "935:\tlearn: 101746.9137894\ttotal: 25.7s\tremaining: 1.75s\n",
            "936:\tlearn: 101704.3888279\ttotal: 25.7s\tremaining: 1.73s\n",
            "937:\tlearn: 101662.1427980\ttotal: 25.7s\tremaining: 1.7s\n",
            "938:\tlearn: 101575.9893789\ttotal: 25.7s\tremaining: 1.67s\n",
            "939:\tlearn: 101546.2915215\ttotal: 25.7s\tremaining: 1.64s\n",
            "940:\tlearn: 101512.9658212\ttotal: 25.7s\tremaining: 1.61s\n",
            "941:\tlearn: 101474.2996144\ttotal: 25.7s\tremaining: 1.58s\n",
            "942:\tlearn: 101447.8268511\ttotal: 25.7s\tremaining: 1.55s\n",
            "943:\tlearn: 101429.6397764\ttotal: 25.8s\tremaining: 1.53s\n",
            "944:\tlearn: 101244.9908010\ttotal: 25.8s\tremaining: 1.5s\n",
            "945:\tlearn: 101225.4508049\ttotal: 25.8s\tremaining: 1.47s\n",
            "946:\tlearn: 101182.4484621\ttotal: 25.8s\tremaining: 1.44s\n",
            "947:\tlearn: 101145.8161249\ttotal: 25.8s\tremaining: 1.42s\n",
            "948:\tlearn: 101119.6146272\ttotal: 25.8s\tremaining: 1.39s\n",
            "949:\tlearn: 101094.1565877\ttotal: 25.8s\tremaining: 1.36s\n",
            "950:\tlearn: 101074.5093626\ttotal: 25.9s\tremaining: 1.33s\n",
            "951:\tlearn: 101041.7711138\ttotal: 25.9s\tremaining: 1.3s\n",
            "952:\tlearn: 101012.6138242\ttotal: 25.9s\tremaining: 1.28s\n",
            "953:\tlearn: 100976.6088773\ttotal: 25.9s\tremaining: 1.25s\n",
            "954:\tlearn: 100937.4903369\ttotal: 25.9s\tremaining: 1.22s\n",
            "955:\tlearn: 100918.6436465\ttotal: 25.9s\tremaining: 1.19s\n",
            "956:\tlearn: 100887.8081073\ttotal: 25.9s\tremaining: 1.16s\n",
            "957:\tlearn: 100835.6616084\ttotal: 25.9s\tremaining: 1.14s\n",
            "958:\tlearn: 100807.9735361\ttotal: 26s\tremaining: 1.11s\n",
            "959:\tlearn: 100776.6591282\ttotal: 26s\tremaining: 1.08s\n",
            "960:\tlearn: 100752.6011059\ttotal: 26s\tremaining: 1.05s\n",
            "961:\tlearn: 100728.2412481\ttotal: 26s\tremaining: 1.03s\n",
            "962:\tlearn: 100667.5833943\ttotal: 26s\tremaining: 999ms\n",
            "963:\tlearn: 100636.3086346\ttotal: 26s\tremaining: 972ms\n",
            "964:\tlearn: 100603.7575684\ttotal: 26s\tremaining: 944ms\n",
            "965:\tlearn: 100575.4167225\ttotal: 26s\tremaining: 917ms\n",
            "966:\tlearn: 100558.3884575\ttotal: 26.1s\tremaining: 889ms\n",
            "967:\tlearn: 100532.1595150\ttotal: 26.1s\tremaining: 862ms\n",
            "968:\tlearn: 100506.0619352\ttotal: 26.1s\tremaining: 835ms\n",
            "969:\tlearn: 100467.2833542\ttotal: 26.1s\tremaining: 807ms\n",
            "970:\tlearn: 100428.6439688\ttotal: 26.1s\tremaining: 780ms\n",
            "971:\tlearn: 100398.0870190\ttotal: 26.1s\tremaining: 753ms\n",
            "972:\tlearn: 100377.0790616\ttotal: 26.1s\tremaining: 725ms\n",
            "973:\tlearn: 100335.9816692\ttotal: 26.2s\tremaining: 698ms\n",
            "974:\tlearn: 100304.9964483\ttotal: 26.2s\tremaining: 671ms\n",
            "975:\tlearn: 100262.6744701\ttotal: 26.2s\tremaining: 644ms\n",
            "976:\tlearn: 100236.1307603\ttotal: 26.2s\tremaining: 617ms\n",
            "977:\tlearn: 100212.0795093\ttotal: 26.2s\tremaining: 590ms\n",
            "978:\tlearn: 100186.2246944\ttotal: 26.2s\tremaining: 563ms\n",
            "979:\tlearn: 100148.7231659\ttotal: 26.2s\tremaining: 535ms\n",
            "980:\tlearn: 100131.3716229\ttotal: 26.3s\tremaining: 508ms\n",
            "981:\tlearn: 100103.3332389\ttotal: 26.3s\tremaining: 481ms\n",
            "982:\tlearn: 100093.4304522\ttotal: 26.3s\tremaining: 454ms\n",
            "983:\tlearn: 100051.6044994\ttotal: 26.3s\tremaining: 427ms\n",
            "984:\tlearn: 100030.2088053\ttotal: 26.3s\tremaining: 401ms\n",
            "985:\tlearn: 100008.0187103\ttotal: 26.3s\tremaining: 374ms\n",
            "986:\tlearn: 99992.1376498\ttotal: 26.3s\tremaining: 347ms\n",
            "987:\tlearn: 99956.8540174\ttotal: 26.3s\tremaining: 320ms\n",
            "988:\tlearn: 99944.2680009\ttotal: 26.4s\tremaining: 293ms\n",
            "989:\tlearn: 99926.1914385\ttotal: 26.4s\tremaining: 266ms\n",
            "990:\tlearn: 99902.5847784\ttotal: 26.4s\tremaining: 240ms\n",
            "991:\tlearn: 99880.4208239\ttotal: 26.4s\tremaining: 213ms\n",
            "992:\tlearn: 99865.8161804\ttotal: 26.4s\tremaining: 186ms\n",
            "993:\tlearn: 99856.7640454\ttotal: 26.4s\tremaining: 159ms\n",
            "994:\tlearn: 99845.2331076\ttotal: 26.4s\tremaining: 133ms\n",
            "995:\tlearn: 99837.4822495\ttotal: 26.4s\tremaining: 106ms\n",
            "996:\tlearn: 99807.7050385\ttotal: 26.4s\tremaining: 79.6ms\n",
            "997:\tlearn: 99775.1186096\ttotal: 26.5s\tremaining: 53ms\n",
            "998:\tlearn: 99758.7575903\ttotal: 26.5s\tremaining: 26.5ms\n",
            "999:\tlearn: 99722.0337619\ttotal: 26.5s\tremaining: 0us\n"
          ]
        },
        {
          "output_type": "execute_result",
          "data": {
            "text/plain": [
              "<catboost.core.CatBoostRegressor at 0x7e067eed2620>"
            ]
          },
          "metadata": {},
          "execution_count": 30
        }
      ]
    },
    {
      "cell_type": "code",
      "source": [
        "preds = cb_model.predict(X_test_new)\n"
      ],
      "metadata": {
        "id": "OUhJtE1y_TX8"
      },
      "execution_count": null,
      "outputs": []
    },
    {
      "cell_type": "code",
      "source": [
        "cat_mae = mean_absolute_error(y_test_new, preds)\n",
        "cat_mape = mean_absolute_percentage_error(y_test_new, preds)\n",
        "print(f\"cat MAE: {cat_mae}\")\n",
        "print(f\"cat MAPE: {cat_mape}\")"
      ],
      "metadata": {
        "colab": {
          "base_uri": "https://localhost:8080/"
        },
        "id": "hqIp67eA_jdZ",
        "outputId": "682f134b-8ef8-4af8-d3dd-35445caa38cf"
      },
      "execution_count": null,
      "outputs": [
        {
          "output_type": "stream",
          "name": "stdout",
          "text": [
            "cat MAE: 57771.40088469201\n",
            "cat MAPE: 0.2012166264814753\n"
          ]
        }
      ]
    },
    {
      "cell_type": "code",
      "source": [
        "import joblib\n",
        "\n",
        "# Save the SVR model\n",
        "joblib.dump(cb_model, drive_path +'models/cb_model_new.joblib')\n",
        "\n",
        "# Load the SVR model\n",
        "loaded_model = joblib.load(drive_path +'models/cb_model_new.joblib')\n",
        "\n",
        "# Make predictions\n",
        "predictions_cb_model = loaded_model.predict(X_test_new)\n",
        "print(\"predictions_cb_model:\", predictions_cb_model)\n"
      ],
      "metadata": {
        "colab": {
          "base_uri": "https://localhost:8080/"
        },
        "id": "dKj_zmTBAKhI",
        "outputId": "c52dafef-1575-465f-861f-2dcb48059803"
      },
      "execution_count": null,
      "outputs": [
        {
          "output_type": "stream",
          "name": "stdout",
          "text": [
            "predictions_cb_model: [1231116.54827884  262118.21986875  259015.49748201 ...  464911.65627951\n",
            "  471283.0078723   263534.89127078]\n"
          ]
        }
      ]
    },
    {
      "cell_type": "code",
      "source": [
        "from sklearn.metrics import r2_score\n",
        "cb_r2_score=r2_score(y_test_new, preds)\n",
        "cb_r2_score"
      ],
      "metadata": {
        "colab": {
          "base_uri": "https://localhost:8080/"
        },
        "id": "a0eqSj4mAnLx",
        "outputId": "d41bef83-41ae-4892-beb9-f726699e739c"
      },
      "execution_count": null,
      "outputs": [
        {
          "output_type": "execute_result",
          "data": {
            "text/plain": [
              "0.9460274061843215"
            ]
          },
          "metadata": {},
          "execution_count": 34
        }
      ]
    },
    {
      "cell_type": "code",
      "source": [
        "from sklearn.neighbors import KNeighborsRegressor\n",
        "from sklearn.metrics import mean_squared_error, r2_score\n",
        "\n",
        "# Initialize the k-NN regressor\n",
        "knn_regressor = KNeighborsRegressor(n_neighbors=5, weights='distance', algorithm='auto')\n",
        "\n",
        "# Fit the model\n",
        "knn_regressor.fit(X_train_new, y_train_new)\n",
        "\n",
        "# Make predictions\n",
        "y_pred_new = knn_regressor.predict(X_test_new)\n",
        "\n",
        "# Evaluate the model\n",
        "mse = mean_squared_error(y_test_new, y_pred_new)\n",
        "r2 = r2_score(y_test_new, y_pred_new)\n",
        "knn_mape = mean_absolute_percentage_error(y_test_new, y_pred_new)\n",
        "\n",
        "print(\"Mean Squared Error:\", mse)\n",
        "print(\"knn MAPE:\", knn_mape)\n",
        "print(\"R^2 Score:\", r2)\n"
      ],
      "metadata": {
        "colab": {
          "base_uri": "https://localhost:8080/"
        },
        "id": "-mi4djDPBV6w",
        "outputId": "4db8b9de-5788-498c-905b-d7e843461ce2"
      },
      "execution_count": null,
      "outputs": [
        {
          "output_type": "stream",
          "name": "stdout",
          "text": [
            "Mean Squared Error: 42399391505.34714\n",
            "knn MAPE: 0.3187415150488747\n",
            "R^2 Score: 0.8652917436880218\n"
          ]
        }
      ]
    },
    {
      "cell_type": "code",
      "source": [
        "import joblib\n",
        "\n",
        "# # Save the SVR model\n",
        "joblib.dump(cb_model, drive_path +'models/knn_model_new.joblib')\n",
        "\n",
        "# Load the SVR model\n",
        "# loaded_model = joblib.load(drive_path +'models/knn_model_new_1.joblib')\n",
        "\n",
        "# # Make predictions\n",
        "# predictions_cb_model = loaded_model.predict(X_test_new)\n",
        "# print(\"predictions_cb_model:\", predictions_cb_model)\n"
      ],
      "metadata": {
        "id": "J90fI64pFEZJ",
        "colab": {
          "base_uri": "https://localhost:8080/"
        },
        "outputId": "88eb417b-f24e-48b2-e2e9-31a56b574985"
      },
      "execution_count": null,
      "outputs": [
        {
          "output_type": "execute_result",
          "data": {
            "text/plain": [
              "['/content/drive/MyDrive/TTDS_Project/models/knn_model_new.joblib']"
            ]
          },
          "metadata": {},
          "execution_count": 30
        }
      ]
    },
    {
      "cell_type": "code",
      "source": [
        "from sklearn.neighbors import KNeighborsRegressor\n",
        "from sklearn.metrics import mean_squared_error, r2_score\n",
        "from sklearn.preprocessing import StandardScaler\n",
        "\n",
        "# Step 1: Scale the training and testing data\n",
        "scaler = StandardScaler()\n",
        "X_train_new_scaled = scaler.fit_transform(X_train_new)\n",
        "X_test_new_scaled = scaler.transform(X_test_new)\n",
        "\n",
        "# Step 2: Initialize the k-NN regressor\n",
        "knn_regressor = KNeighborsRegressor(n_neighbors=5, weights='distance', algorithm='auto')\n",
        "\n",
        "# Step 3: Fit the model\n",
        "knn_regressor.fit(X_train_new_scaled, y_train_new)\n",
        "\n",
        "# Step 4: Make predictions\n",
        "y_pred_new = knn_regressor.predict(X_test_new_scaled)\n",
        "\n",
        "# Step 5: Evaluate the model\n",
        "mse = mean_squared_error(y_test_new, y_pred_new)\n",
        "r2 = r2_score(y_test_new, y_pred_new)\n",
        "knn_mape = mean_absolute_percentage_error(y_test_new, y_pred_new)\n",
        "\n",
        "print(\"knn MAPE:\", knn_mape)\n",
        "print(\"Mean Squared Error:\", mse)\n",
        "print(\"R^2 Score:\", r2)\n"
      ],
      "metadata": {
        "colab": {
          "base_uri": "https://localhost:8080/"
        },
        "id": "3L6GOk73FoK7",
        "outputId": "9ac61dc4-c8ec-4fbb-c833-4ca3b20b440a"
      },
      "execution_count": null,
      "outputs": [
        {
          "output_type": "stream",
          "name": "stdout",
          "text": [
            "knn MAPE: 0.21068190264123463\n",
            "Mean Squared Error: 65140274078.22656\n",
            "R^2 Score: 0.7930410690998804\n"
          ]
        }
      ]
    },
    {
      "cell_type": "code",
      "source": [
        "from catboost import CatBoostRegressor\n",
        "from sklearn.metrics import mean_absolute_error, mean_absolute_percentage_error, make_scorer\n",
        "from sklearn.model_selection import GridSearchCV\n",
        "\n",
        "# Define the parameter grid\n",
        "param_grid = {\n",
        "    'iterations': [500, 1000],\n",
        "    'learning_rate': [0.01, 0.05, 0.1],\n",
        "    'depth': [4, 6, 8],\n",
        "}\n",
        "\n",
        "# Initialize CatBoostRegressor\n",
        "cb_model = CatBoostRegressor(verbose=0)\n",
        "\n",
        "# Define a scoring metric\n",
        "scorer = make_scorer(mean_absolute_error, greater_is_better=False)\n",
        "\n",
        "# GridSearchCV setup\n",
        "grid_search = GridSearchCV(\n",
        "    estimator=cb_model,\n",
        "    param_grid=param_grid,\n",
        "    scoring=scorer,\n",
        "    cv=3,  # 3-fold cross-validation\n",
        "    n_jobs=-1,  # Use all processors\n",
        "    verbose=1\n",
        ")\n",
        "\n",
        "# Perform the grid search\n",
        "grid_search.fit(X_train_new, y_train_new)\n",
        "\n",
        "# Get the best model and its parameters\n",
        "best_model = grid_search.best_estimator_\n",
        "print(\"Best Parameters:\", grid_search.best_params_)\n",
        "\n",
        "# Evaluate the best model\n",
        "preds = best_model.predict(X_test_new)\n",
        "cat_mae = mean_absolute_error(y_test_new, preds)\n",
        "cat_mape = mean_absolute_percentage_error(y_test_new, preds)\n",
        "\n",
        "print(f\"Best cat MAE: {cat_mae}\")\n",
        "print(f\"Best cat MAPE: {cat_mape}\")\n"
      ],
      "metadata": {
        "id": "cnswLZwlF1XM",
        "colab": {
          "base_uri": "https://localhost:8080/"
        },
        "outputId": "0d79f04c-af39-4caa-f1f0-24dae4332e30"
      },
      "execution_count": null,
      "outputs": [
        {
          "output_type": "stream",
          "name": "stdout",
          "text": [
            "Fitting 3 folds for each of 18 candidates, totalling 54 fits\n",
            "Best Parameters: {'depth': 8, 'iterations': 1000, 'learning_rate': 0.1}\n",
            "Best cat MAE: 79208.00288234776\n",
            "Best cat MAPE: 0.24191546901928165\n"
          ]
        }
      ]
    },
    {
      "cell_type": "code",
      "source": [
        "import joblib\n",
        "\n",
        "# Save the SVR model\n",
        "joblib.dump(best_model, drive_path +'models/cb_model_grid.joblib')\n",
        "\n",
        "# Load the SVR model\n",
        "loaded_model = joblib.load(drive_path +'models/cb_model_grid.joblib')\n"
      ],
      "metadata": {
        "id": "BNmKpiubQcrf"
      },
      "execution_count": null,
      "outputs": []
    },
    {
      "cell_type": "code",
      "source": [
        "brokerage = {\n",
        "            \"Other\":0,\n",
        "            \"RE/MAX CROSSROADS REALTY INC., BROKERAGE\":1,\n",
        "            \"CHESTNUT PARK REAL ESTATE LIMITED, BROKERAGE\":2,\n",
        "            \"HOMELIFE LANDMARK REALTY INC., BROKERAGE\":3,\n",
        "            \"HOMELIFE NEW WORLD REALTY INC., BROKERAGE\":4,\n",
        "            \"CENTURY 21 LEADING EDGE REALTY INC., BROKERAGE\":5,\n",
        "            \"RE/MAX REALTRON REALTY INC., BROKERAGE\":6,\n",
        "            \"ROYAL LEPAGE SIGNATURE REALTY, BROKERAGE\":7,\n",
        "            \"ROYAL LEPAGE/J & D DIVISION, BROKERAGE\":8,\n",
        "            \"ROYAL LEPAGE TERREQUITY REALTY, BROKERAGE\":9,\n",
        "            \"RE/MAX HALLMARK REALTY LTD., BROKERAGE\":10,\n",
        "            \"FOREST HILL REAL ESTATE INC., BROKERAGE\":11,\n",
        "            \"RE/MAX WEST REALTY INC., BROKERAGE\":12,\n",
        "            \"RIGHT AT HOME REALTY INC., BROKERAGE\":13,\n",
        "            \"HARVEY KALLES REAL ESTATE LTD., BROKERAGE\":14,\n",
        "            \"ROYAL LEPAGE REAL ESTATE SERVICES LTD., BROKERAGE\":15,\n",
        "            \"KELLER WILLIAMS REFERRED URBAN REALTY, BROKERAGE\":16,\n",
        "            \"REAL ESTATE HOMEWARD, BROKERAGE\":17,\n",
        "            \"ROYAL LEPAGE YOUR COMMUNITY REALTY, BROKERAGE\":18,\n",
        "            \"RE/MAX PREMIER INC., BROKERAGE\":19,\n",
        "            \"RE/MAX ULTIMATE REALTY INC., BROKERAGE\":20,\n",
        "            \"RE/MAX PROFESSIONALS INC., BROKERAGE\":21\n",
        "          }\n",
        "community = {\n",
        "        \"Bendale\":0,\n",
        "        \"Niagara\":1,\n",
        "        \"South Riverdale\":2,\n",
        "        \"Malvern\":3,\n",
        "        \"Annex\":4,\n",
        "        \"Waterfront Communities C1\":5,\n",
        "        \"Mimico\":6,\n",
        "        \"Other\":7,\n",
        "        \"Rosedale-Moore Park\":8,\n",
        "        \"Mount Olive-Silverstone-Jamestown\":9,\n",
        "        \"L'Amoreaux\":10,\n",
        "        \"Willowdale West\":11,\n",
        "        \"Willowdale East\":12,\n",
        "        \"West Humber-Clairville\":13,\n",
        "        \"Church-Yonge Corridor\":14,\n",
        "        \"Islington-City Centre West\":15,\n",
        "        \"Mount Pleasant West\":16,\n",
        "        \"Agincourt South-Malvern West\":17,\n",
        "        \"Bay Street Corridor\":18,\n",
        "        \"Flemingdon Park\":19,\n",
        "        \"Woburn\":20,\n",
        "        \"Bayview Village\":21,\n",
        "        \"Newtonbrook East\":22,\n",
        "        \"Banbury-Don Mills\":23,\n",
        "        \"Dorset Park\":24,\n",
        "        \"Moss Park\":25\n",
        "      }\n",
        "exterior = {\n",
        "          \"Brick\":0,\n",
        "          \"Concrete\":1,\n",
        "          \"Other\":2,\n",
        "          \"Brick,Stucco/Plaster\":3,\n",
        "          \"Stucco/Plaster\":4,\n",
        "          \"Alum Siding,Brick\":5,\n",
        "          \"Alum Siding\":6,\n",
        "          \"Brick,Stone\":7,\n",
        "          \"Brick,Concrete\":8\n",
        "        }\n",
        "type = {\n",
        "   \"Condo Apt\":0,\n",
        "   \"Condo Townhouse\":1,\n",
        "   \"Other\":2,\n",
        "   \"Detached\":3,\n",
        "   \"Semi-Detached\":4,\n",
        "   \"Att/Row/Twnhouse\":5\n",
        "}\n",
        "style = {\n",
        "   \"Apartment\":0,\n",
        "   \"Loft\":1,\n",
        "   \"2-Storey\":2,\n",
        "   \"Other\":3,\n",
        "   \"Stacked Townhse\":4,\n",
        "   \"Bungalow\":5,\n",
        "   \"2 1/2 Storey\":6,\n",
        "   \"3-Storey\":7,\n",
        "   \"Bungalow-Raised\":8,\n",
        "   \"Multi-Level\":9,\n",
        "   \"1 1/2 Storey\":10\n",
        "}"
      ],
      "metadata": {
        "id": "gYaQWj2G8w71"
      },
      "execution_count": null,
      "outputs": []
    },
    {
      "cell_type": "code",
      "source": [],
      "metadata": {
        "id": "31LXPpYzD-5K"
      },
      "execution_count": null,
      "outputs": []
    },
    {
      "cell_type": "code",
      "source": [],
      "metadata": {
        "id": "ASDh3cggDWfU"
      },
      "execution_count": null,
      "outputs": []
    },
    {
      "cell_type": "code",
      "source": [
        "mapping"
      ],
      "metadata": {
        "colab": {
          "base_uri": "https://localhost:8080/"
        },
        "id": "C3av8hpm-cYj",
        "outputId": "79cf1f8e-71af-4ab3-97d2-488bc3963d86"
      },
      "execution_count": null,
      "outputs": [
        {
          "output_type": "execute_result",
          "data": {
            "text/plain": [
              "{'Bendale': 0,\n",
              " 'Niagara': 1,\n",
              " 'South Riverdale': 2,\n",
              " 'Malvern': 3,\n",
              " 'Annex': 4,\n",
              " 'Waterfront Communities C1': 5,\n",
              " 'Mimico': 6,\n",
              " 'Other': 7,\n",
              " 'Rosedale-Moore Park': 8,\n",
              " 'Mount Olive-Silverstone-Jamestown': 9,\n",
              " \"L'Amoreaux\": 10,\n",
              " 'Willowdale West': 11,\n",
              " 'Willowdale East': 12,\n",
              " 'West Humber-Clairville': 13,\n",
              " 'Church-Yonge Corridor': 14,\n",
              " 'Islington-City Centre West': 15,\n",
              " 'Mount Pleasant West': 16,\n",
              " 'Agincourt South-Malvern West': 17,\n",
              " 'Bay Street Corridor': 18,\n",
              " 'Flemingdon Park': 19,\n",
              " 'Woburn': 20,\n",
              " 'Bayview Village': 21,\n",
              " 'Newtonbrook East': 22,\n",
              " 'Banbury-Don Mills': 23,\n",
              " 'Dorset Park': 24,\n",
              " 'Moss Park': 25}"
            ]
          },
          "metadata": {},
          "execution_count": 11
        }
      ]
    },
    {
      "cell_type": "code",
      "source": [
        "import numpy as np\n",
        "import joblib\n",
        "\n",
        "def predict_property(features, brokerage_map, community_map, exterior_map, type_map, style_map, model):\n",
        "    \"\"\"\n",
        "    Predicts the output using the given model after encoding categorical features.\n",
        "\n",
        "    Args:\n",
        "        features (dict): A dictionary containing input features in the sequence:\n",
        "                         ['lotdepth', 'community', 'washrooms', 'brokerage', 'sqft', 'lotfront', 'sold_price',\n",
        "                          'type', 'kitchens_plus', 'style', 'rooms_plus', 'rooms', 'garage_spaces', 'parking_spaces']\n",
        "\n",
        "                         Categorical features: 'community', 'brokerage', 'type', 'style'\n",
        "        brokerage_map (dict): Mapping dictionary for 'brokerage'.\n",
        "        community_map (dict): Mapping dictionary for 'community'.\n",
        "        exterior_map (dict): Mapping dictionary for 'exterior'.\n",
        "        type_map (dict): Mapping dictionary for 'type'.\n",
        "        style_map (dict): Mapping dictionary for 'style'.\n",
        "        model (joblib object): Preloaded model for prediction.\n",
        "\n",
        "    Returns:\n",
        "        float: Predicted output value.\n",
        "    \"\"\"\n",
        "    try:\n",
        "        # Encode categorical features\n",
        "        features['community'] = community_map.get(features['community'], community_map['Other'])\n",
        "        features['brokerage'] = brokerage_map.get(features['brokerage'], brokerage_map['Other'])\n",
        "        features['type'] = type_map.get(features['type'], type_map['Other'])\n",
        "        features['style'] = style_map.get(features['style'], style_map['Other'])\n",
        "\n",
        "        # Arrange features in the required sequence\n",
        "        feature_order = ['lotdepth', 'community', 'washrooms', 'brokerage', 'sqft', 'lotfront', 'sold_price',\n",
        "                         'type', 'kitchens_plus', 'style', 'rooms_plus', 'rooms', 'garage_spaces', 'parking_spaces']\n",
        "\n",
        "        input_features = np.array([features[feature] for feature in feature_order]).reshape(1, -1)\n",
        "\n",
        "        # Make prediction\n",
        "        prediction = model.predict(input_features)\n",
        "        return prediction[0]\n",
        "\n",
        "    except KeyError as e:\n",
        "        raise ValueError(f\"Missing or invalid feature in input: {e}\")\n",
        "\n",
        "\n"
      ],
      "metadata": {
        "id": "k3cPX5Ck-eAc"
      },
      "execution_count": null,
      "outputs": []
    },
    {
      "cell_type": "code",
      "source": [
        "# Example Usage\n",
        "loaded_model = joblib.load(drive_path + 'models/cb_model_new_grid.joblib')\n",
        "\n",
        "input_features = {\n",
        "    'lotdepth': 100,\n",
        "    'community': 'Niagara',\n",
        "    'washrooms': 2,\n",
        "    'brokerage': 'RE/MAX CROSSROADS REALTY INC., BROKERAGE',\n",
        "    'sqft': 800,\n",
        "    'lotfront': 25,\n",
        "    'sold_price': 750000,\n",
        "    'type': 'Condo Apt',\n",
        "    'kitchens_plus': 1,\n",
        "    'style': 'Apartment',\n",
        "    'rooms_plus': 0,\n",
        "    'rooms': 5,\n",
        "    'garage_spaces': 1,\n",
        "    'parking_spaces': 1\n",
        "}\n",
        "\n",
        "prediction = predict_property(\n",
        "    input_features,\n",
        "    brokerage,\n",
        "    community,\n",
        "    exterior,\n",
        "    type,\n",
        "    style,\n",
        "    loaded_model\n",
        ")\n",
        "\n",
        "print(f\"Predicted Sold Price: {prediction}\")"
      ],
      "metadata": {
        "colab": {
          "base_uri": "https://localhost:8080/"
        },
        "id": "gpwMNU9BTAHb",
        "outputId": "a3fb7d83-1951-4cc7-adda-1f220dd19bbf"
      },
      "execution_count": null,
      "outputs": [
        {
          "output_type": "stream",
          "name": "stdout",
          "text": [
            "Predicted Sold Price: 670077.5315344222\n"
          ]
        }
      ]
    },
    {
      "cell_type": "code",
      "source": [
        "input_features = {\n",
        "    'lotdepth': 100,  # Numerical feature\n",
        "    'community': 'Niagara',  # Categorical feature\n",
        "    'washrooms': 2,  # Numerical feature\n",
        "    'brokerage': 'RE/MAX CROSSROADS REALTY INC., BROKERAGE',  # Categorical feature\n",
        "    'sqft': 800,  # Numerical feature\n",
        "    'lotfront': 25,  # Numerical feature\n",
        "    'sold_price': 750000,  # Numerical feature\n",
        "    'type': 'Condo Apt',  # Categorical feature\n",
        "    'kitchens_plus': 1,  # Numerical feature\n",
        "    'style': 'Apartment',  # Categorical feature\n",
        "    'rooms_plus': 0,  # Numerical feature\n",
        "    'rooms': 5,  # Numerical feature\n",
        "    'garage_spaces': 1,  # Numerical feature\n",
        "    'parking_spaces': 1  # Numerical feature\n",
        "}\n"
      ],
      "metadata": {
        "id": "-PR2c4NXSxHk"
      },
      "execution_count": null,
      "outputs": []
    },
    {
      "cell_type": "code",
      "source": [
        "import matplotlib.pyplot as plt\n",
        "\n",
        "# Dummy dictionary containing model names and their MPAE values\n",
        "mpae_values = {\n",
        "    \"CATBOOST\": 24,\n",
        "    \"KNN\": 31,\n",
        "    \"SVR\": 64,\n",
        "}\n",
        "\n",
        "# Extract model names and MPAE values\n",
        "models = list(mpae_values.keys())\n",
        "mpae = list(mpae_values.values())\n",
        "\n",
        "# Create a bar plot\n",
        "plt.figure(figsize=(10, 6))\n",
        "plt.bar(models, mpae, color='skyblue', edgecolor='black')\n",
        "\n",
        "# Add titles and labels\n",
        "plt.title(\"MAPE of Different Models\", fontsize=16)\n",
        "plt.xlabel(\"Models\", fontsize=14)\n",
        "plt.ylabel(\"MAPE (%)\", fontsize=14)\n",
        "\n",
        "# Add value labels on top of each bar\n",
        "for i, value in enumerate(mpae):\n",
        "    plt.text(i, value + 0.5, f\"{value:.1f}%\", ha='center', fontsize=12)\n",
        "\n",
        "# Display the plot\n",
        "plt.tight_layout()\n",
        "plt.show()\n"
      ],
      "metadata": {
        "colab": {
          "base_uri": "https://localhost:8080/",
          "height": 607
        },
        "id": "skfBbwLva8lR",
        "outputId": "ae5f8d64-ac7a-4c4d-fc58-3a7937ef77b0"
      },
      "execution_count": 3,
      "outputs": [
        {
          "output_type": "display_data",
          "data": {
            "text/plain": [
              "<Figure size 1000x600 with 1 Axes>"
            ],
            "image/png": "[encoded data removed]"
          },
          "metadata": {}
        }
      ]
    },
    {
      "cell_type": "code",
      "source": [],
      "metadata": {
        "id": "kxPm6_5acQeS"
      },
      "execution_count": null,
      "outputs": []
    }
  ]
}